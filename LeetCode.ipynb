{
  "nbformat": 4,
  "nbformat_minor": 0,
  "metadata": {
    "colab": {
      "provenance": [],
      "toc_visible": true,
      "authorship_tag": "ABX9TyM3yk6WDNEaH5awNGMPzuVM",
      "include_colab_link": true
    },
    "kernelspec": {
      "name": "python3",
      "display_name": "Python 3"
    },
    "language_info": {
      "name": "python"
    }
  },
  "cells": [
    {
      "cell_type": "markdown",
      "metadata": {
        "id": "view-in-github",
        "colab_type": "text"
      },
      "source": [
        "<a href=\"https://colab.research.google.com/github/arunkumar2831/Python-Programs/blob/main/LeetCode.ipynb\" target=\"_parent\"><img src=\"https://colab.research.google.com/assets/colab-badge.svg\" alt=\"Open In Colab\"/></a>"
      ]
    },
    {
      "cell_type": "markdown",
      "source": [
        "### P1:Two Sum"
      ],
      "metadata": {
        "id": "jKvhKh1pWcJW"
      }
    },
    {
      "cell_type": "markdown",
      "source": [
        "Given an array of integers nums and an integer target, return the indices of the two numbers that add up to the target."
      ],
      "metadata": {
        "id": "3IJyFNkKSx-d"
      }
    },
    {
      "cell_type": "markdown",
      "source": [
        "Solution 2: Two-Pass Hash Table Approach with Comments"
      ],
      "metadata": {
        "id": "lfda6vCjSZ0H"
      }
    },
    {
      "cell_type": "code",
      "execution_count": null,
      "metadata": {
        "id": "2m97wOp4WRot"
      },
      "outputs": [],
      "source": [
        "class Solution(object):\n",
        "  def twoSum(self, nums, target):\n",
        "    # Step 1: Create a dictionary to store numbers and their indices.\n",
        "    numMap = {}\n",
        "    # Step 2: Add each number and its index to the dictionary.\n",
        "    for i, num in enumerate(nums):\n",
        "        numMap[num] = i\n",
        "    # Step 3: Check for each number, if its complement exists in the dictionary.\n",
        "    for i, num in enumerate(nums):\n",
        "        complement = target - num\n",
        "        # Ensure the complement is not the number itself.\n",
        "        if complement in numMap and numMap[complement] != i:\n",
        "            # Step 4: If the complement exists, the indices are returned.\n",
        "            return [i, numMap[complement]]\n",
        "    # Step 5: If no two numbers sum up to the target, return an empty list.\n",
        "    return []\n"
      ]
    },
    {
      "cell_type": "markdown",
      "source": [
        "Solution 3: One-Pass Hash Table Approach with Comments"
      ],
      "metadata": {
        "id": "GRJEM195XhpB"
      }
    },
    {
      "cell_type": "code",
      "source": [
        "class Solution(object):\n",
        "  def twoSum(self, nums, target):\n",
        "    # Step 1: Again, create a dictionary to store numbers and their indices.\n",
        "    numMap = {}\n",
        "    # Step 2: During iteration over the numbers, the complement is calculated for each number.\n",
        "    for i, num in enumerate(nums):\n",
        "        complement = target - num\n",
        "        # Step 3: It checks if the complement exists in the dictionary. If so, the indices are returned.\n",
        "        if complement in numMap:\n",
        "            return [numMap[complement], i]\n",
        "        # Step 4: Otherwise, the current number and its index are added to the dictionary.\n",
        "        numMap[num] = i\n",
        "    # Step 5: If no pair sums up to the target, return an empty list.\n",
        "    return []"
      ],
      "metadata": {
        "id": "DZ59cdsuXiVF"
      },
      "execution_count": null,
      "outputs": []
    }
  ]
}