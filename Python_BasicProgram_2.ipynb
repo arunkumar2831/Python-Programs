{
  "nbformat": 4,
  "nbformat_minor": 0,
  "metadata": {
    "colab": {
      "provenance": [],
      "toc_visible": true,
      "authorship_tag": "ABX9TyNJE0CnOvX5wYCad8UHwLJ0",
      "include_colab_link": true
    },
    "kernelspec": {
      "name": "python3",
      "display_name": "Python 3"
    },
    "language_info": {
      "name": "python"
    }
  },
  "cells": [
    {
      "cell_type": "markdown",
      "metadata": {
        "id": "view-in-github",
        "colab_type": "text"
      },
      "source": [
        "<a href=\"https://colab.research.google.com/github/arunkumar2831/Python-Programs/blob/main/Python_BasicProgram_2.ipynb\" target=\"_parent\"><img src=\"https://colab.research.google.com/assets/colab-badge.svg\" alt=\"Open In Colab\"/></a>"
      ]
    },
    {
      "cell_type": "markdown",
      "source": [
        "### P17:Find ASCII value of a character."
      ],
      "metadata": {
        "id": "DKD4-X4VuUyn"
      }
    },
    {
      "cell_type": "markdown",
      "source": [
        "ASCII value:\n",
        "ASCII, or American Standard Code for Information Interchange, is a character encodingstandard that uses numeric values to represent characters. Each ASCII character isassigned a unique 7-bit or 8-bit binary number, allowing computers to exchange informationand display text in a consistent way. The ASCII values range from 0 to 127 (for 7-bit ASCII)or 0 to 255 (for 8-bit ASCII), with each value corresponding to a specific character, such asletters, digits, punctuation marks, and control characters."
      ],
      "metadata": {
        "id": "_8SsqKLSuYvs"
      }
    },
    {
      "cell_type": "code",
      "execution_count": null,
      "metadata": {
        "colab": {
          "base_uri": "https://localhost:8080/"
        },
        "id": "n7Dv4XuxuSLK",
        "outputId": "d71c8c2d-35c2-4d42-fe2c-1e331f74c2d4"
      },
      "outputs": [
        {
          "output_type": "stream",
          "name": "stdout",
          "text": [
            "Enter the character :- P\n",
            "The ASCII value of the P is 80\n"
          ]
        }
      ],
      "source": [
        "char_val= str(input(\"Enter the character :- \"))\n",
        "print(f\"The ASCII value of the {char_val} is {ord(char_val)}\")"
      ]
    },
    {
      "cell_type": "markdown",
      "source": [
        "### P18:Calculate your Body Mass Index."
      ],
      "metadata": {
        "id": "RjrLmGvDuc2R"
      }
    },
    {
      "cell_type": "markdown",
      "source": [
        "Body Mass Index (BMI)\n",
        "is a measure of body fat based on an individual's weight andheight. It is commonly used as a screening tool to categorize individuals into different weightstatus categories, such as underweight, normal weight, overweight, and obesity."
      ],
      "metadata": {
        "id": "0DbwuJw2uvGE"
      }
    },
    {
      "cell_type": "code",
      "source": [
        "def bodymassweight(h,w):\n",
        "  #print(round((w/h)**2,2))\n",
        "  return round((w/h**2),2)\n",
        "\n",
        "print(\"Please find the your BMI: \")\n",
        "h=float(input(\"Enter the your Height:- \"))\n",
        "w=float(input(\"Enter the your Weight:- \"))\n",
        "print(h,w)\n",
        "bmi=bodymassweight(h,w)\n",
        "print(f\"Your BMI value is : {bmi}\")\n",
        "\n",
        "if bmi<=18.5:\n",
        "  print(\"you are underweight.\")\n",
        "elif 18.5< bmi <= 24.9:\n",
        "  print(\"your weight is normal\")\n",
        "elif 24.9 < bmi <= 29.29:\n",
        "  print(\"you are overweight\")\n",
        "else:\n",
        "  print(\"you are obese.\")"
      ],
      "metadata": {
        "colab": {
          "base_uri": "https://localhost:8080/"
        },
        "id": "0JxFLpXwuy1D",
        "outputId": "a1639872-00ee-4477-dfe0-0709b3a11a5e"
      },
      "execution_count": null,
      "outputs": [
        {
          "output_type": "stream",
          "name": "stdout",
          "text": [
            "Please find the your BMI: \n",
            "Enter the your Height:- 1.5\n",
            "Enter the your Weight:- 58\n",
            "1.5 58.0\n",
            "Your BMI value is : 25.78\n",
            "you are overweight\n"
          ]
        }
      ]
    },
    {
      "cell_type": "markdown",
      "source": [
        "### P19:Sum of Array"
      ],
      "metadata": {
        "id": "kcI_eRWfOntK"
      }
    },
    {
      "cell_type": "markdown",
      "source": [
        "Write a Python Program to find sum of array."
      ],
      "metadata": {
        "id": "V3vR9LoLOr7I"
      }
    },
    {
      "cell_type": "code",
      "source": [
        "myarr= [1,2,3,4,5]\n",
        "sum_myarr= sum(myarr)\n",
        "print(f\" The Given array value is {myarr}\")\n",
        "print(f\" and The sum of given array is :-  {sum_myarr}\")"
      ],
      "metadata": {
        "colab": {
          "base_uri": "https://localhost:8080/"
        },
        "id": "DEcLV5erOv15",
        "outputId": "6f6fb601-e798-441f-a675-f702f78773a2"
      },
      "execution_count": 2,
      "outputs": [
        {
          "output_type": "stream",
          "name": "stdout",
          "text": [
            " The Given array value is [1, 2, 3, 4, 5]\n",
            " and The sum of given array is :-  15\n"
          ]
        }
      ]
    },
    {
      "cell_type": "markdown",
      "source": [
        "### P20:Latest Element in the array"
      ],
      "metadata": {
        "id": "bhQ25DJzQrpl"
      }
    },
    {
      "cell_type": "markdown",
      "source": [
        "Write a Python Program to find largest element in an array."
      ],
      "metadata": {
        "id": "TfokcEFySACB"
      }
    },
    {
      "cell_type": "code",
      "source": [
        "def largest_arr_element(myarr):\n",
        "  if not myarr:\n",
        "    return \"empty array\"\n",
        "  largest_arr= myarr[0]\n",
        "\n",
        "  for element in myarr:\n",
        "    if element> largest_arr:\n",
        "      largest_arr = element\n",
        "\n",
        "  return largest_arr\n",
        "\n",
        "myarr = [10,20,30,99,60,80]\n",
        "larr= largest_arr_element(myarr)\n",
        "print(f\"The largest array element in the array is :- {larr}\")"
      ],
      "metadata": {
        "colab": {
          "base_uri": "https://localhost:8080/"
        },
        "id": "3aEZnFdXSCRZ",
        "outputId": "87229f6d-07ca-47bb-f07a-078f7ec52319"
      },
      "execution_count": 4,
      "outputs": [
        {
          "output_type": "stream",
          "name": "stdout",
          "text": [
            "The largest array element in the array is :- 99\n"
          ]
        }
      ]
    },
    {
      "cell_type": "markdown",
      "source": [
        "### P21:Sum of the Element in the list"
      ],
      "metadata": {
        "id": "A9SdMwwfkpHH"
      }
    },
    {
      "cell_type": "markdown",
      "source": [
        "Write a python program to find the sum of the element from the list"
      ],
      "metadata": {
        "id": "c5178n-kkuK4"
      }
    },
    {
      "cell_type": "code",
      "source": [
        "#list values\n",
        "mylist = [10,20,30,40,50]\n",
        "#initialize the variable\n",
        "sumofnum = 0\n",
        "for i in mylist:\n",
        "  sumofnum += i\n",
        "\n",
        "print(f\"Sum of the element in the list is {sumofnum}\")"
      ],
      "metadata": {
        "colab": {
          "base_uri": "https://localhost:8080/"
        },
        "id": "wad9Gkijk0dc",
        "outputId": "4bc18c33-2a25-44dd-ccd6-872452521a08"
      },
      "execution_count": 1,
      "outputs": [
        {
          "output_type": "stream",
          "name": "stdout",
          "text": [
            "sum of the element in the list is 150\n"
          ]
        }
      ]
    },
    {
      "cell_type": "markdown",
      "source": [
        "### P22:Product of element in the list"
      ],
      "metadata": {
        "id": "8ei8dBXolaSx"
      }
    },
    {
      "cell_type": "markdown",
      "source": [
        "Write a python program to find the product of the element from the list"
      ],
      "metadata": {
        "id": "QOnx2VyFlhXW"
      }
    },
    {
      "cell_type": "code",
      "source": [
        "#list values\n",
        "mylist = [10,20,30,40,50]\n",
        "#initialize the variable\n",
        "productofnum = 1\n",
        "for i in mylist:\n",
        "  productofnum *= i\n",
        "\n",
        "print(f\"Product of the elements in the list is {productofnum}\")"
      ],
      "metadata": {
        "colab": {
          "base_uri": "https://localhost:8080/"
        },
        "id": "EvRRQ12dljFW",
        "outputId": "835c1962-3e7a-44f5-8e95-35af339c2ae5"
      },
      "execution_count": 3,
      "outputs": [
        {
          "output_type": "stream",
          "name": "stdout",
          "text": [
            "Product of the elements in the list is 12000000\n"
          ]
        }
      ]
    }
  ]
}