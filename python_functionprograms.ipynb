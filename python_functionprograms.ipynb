{
  "nbformat": 4,
  "nbformat_minor": 0,
  "metadata": {
    "colab": {
      "provenance": [],
      "toc_visible": true,
      "authorship_tag": "ABX9TyMEyoFqxpNNbAFJZ80/T3Q7",
      "include_colab_link": true
    },
    "kernelspec": {
      "name": "python3",
      "display_name": "Python 3"
    },
    "language_info": {
      "name": "python"
    }
  },
  "cells": [
    {
      "cell_type": "markdown",
      "metadata": {
        "id": "view-in-github",
        "colab_type": "text"
      },
      "source": [
        "<a href=\"https://colab.research.google.com/github/arunkumar2831/Python-Programs/blob/main/python_functionprograms.ipynb\" target=\"_parent\"><img src=\"https://colab.research.google.com/assets/colab-badge.svg\" alt=\"Open In Colab\"/></a>"
      ]
    },
    {
      "cell_type": "markdown",
      "source": [
        "### L1:LambdaFunctions"
      ],
      "metadata": {
        "id": "I9ERvrqcurRq"
      }
    },
    {
      "cell_type": "markdown",
      "source": [
        "Write a Python program to create a lambda function that adds 15 to a given number passed in as an argument, also create a lambda function that multiplies argument x with argument y and prints the result.\n",
        "Sample Output:\n",
        "25\n",
        "48\n"
      ],
      "metadata": {
        "id": "c_6NgyqmuxFP"
      }
    },
    {
      "cell_type": "code",
      "execution_count": null,
      "metadata": {
        "colab": {
          "base_uri": "https://localhost:8080/"
        },
        "id": "MFFrwjgZue4-",
        "outputId": "39c869f4-67b6-47b4-b448-eb967db8bb05"
      },
      "outputs": [
        {
          "output_type": "stream",
          "name": "stdout",
          "text": [
            "25\n",
            "48\n"
          ]
        }
      ],
      "source": [
        "r = lambda a : a + 15\n",
        "print(r(10))\n",
        "\n",
        "r = lambda x,y: x*y\n",
        "print(r(12,4))"
      ]
    },
    {
      "cell_type": "markdown",
      "source": [
        "### L2:Function return Lambda funtion"
      ],
      "metadata": {
        "id": "ELtz4um6wEMz"
      }
    },
    {
      "cell_type": "markdown",
      "source": [
        "Write a Python program to create a function that takes one argument, and that argument will be multiplied with an unknown given number.\n",
        "Sample Output:\n",
        "Double the number of 15 = 30\n",
        "Triple the number of 15 = 45\n",
        "Quadruple the number of 15 = 60\n",
        "Quintuple the number 15 = 75"
      ],
      "metadata": {
        "id": "HS6-FwV9wPpa"
      }
    },
    {
      "cell_type": "code",
      "source": [
        "def newfunc(n):\n",
        "  return lambda x:x*n\n",
        "\n",
        "result = newfunc(2)\n",
        "print(\"Double the number of 15 :- \",result(15))\n",
        "\n",
        "result = newfunc(3)\n",
        "print(\"Triple the number of 15 :- \",result(15))\n",
        "\n",
        "result = newfunc(4)\n",
        "print(\"Quadruple the number of 15 :- \",result(15))\n",
        "\n",
        "result = newfunc(5)\n",
        "print(\"Quintuple the number of 15 :- \",result(15))\n",
        "\n"
      ],
      "metadata": {
        "colab": {
          "base_uri": "https://localhost:8080/"
        },
        "id": "Vjo5d4_UwV22",
        "outputId": "cb70eba4-bcc5-4512-902e-3a82837a9ac0"
      },
      "execution_count": null,
      "outputs": [
        {
          "output_type": "stream",
          "name": "stdout",
          "text": [
            "Double the number of 15 :-  30\n",
            "Triple the number of 15 :-  45\n",
            "Quadruple the number of 15 :-  60\n",
            "Quintuple the number of 15 :-  75\n"
          ]
        }
      ]
    },
    {
      "cell_type": "markdown",
      "source": [
        "### L3:Sort a list of tuples using Lambda"
      ],
      "metadata": {
        "id": "4J6cadDldlkk"
      }
    },
    {
      "cell_type": "markdown",
      "source": [
        "Write a Python program to sort a list of tuples using Lambda.\n",
        "Original list of tuples:\n",
        "\"[('English', 88), ('Science', 90), ('Maths', 97), ('Social sciences', 82)]\"\n",
        "Sorting the List of Tuples:\n",
        "[('Social sciences', 82), ('English', 88), ('Science', 90), ('Maths', 97)]"
      ],
      "metadata": {
        "id": "rZMfhqfkdt8L"
      }
    },
    {
      "cell_type": "code",
      "source": [
        "subject_marks = [('English', 88), ('Science', 90), ('Maths', 97), ('Social sciences', 82)]\n",
        "\n",
        "print(\"Subject mark before sorting\")\n",
        "print(subject_marks)\n",
        "\n",
        "subject_marks.sort(key=lambda x : x[1])\n",
        "print(\"Subject mark After sorting\")\n",
        "print(subject_marks)\n",
        "\n"
      ],
      "metadata": {
        "colab": {
          "base_uri": "https://localhost:8080/"
        },
        "id": "1ZUHQq7Pd2v2",
        "outputId": "cd132ec1-0eb1-45a3-9503-c2a2d8da16f5"
      },
      "execution_count": null,
      "outputs": [
        {
          "output_type": "stream",
          "name": "stdout",
          "text": [
            "Subject mark before sorting\n",
            "[('English', 88), ('Science', 90), ('Maths', 97), ('Social sciences', 82)]\n",
            "Subject mark After sorting\n",
            "[('Social sciences', 82), ('English', 88), ('Science', 90), ('Maths', 97)]\n"
          ]
        }
      ]
    },
    {
      "cell_type": "markdown",
      "source": [
        "### L4:Lambda function to print odd and even numbers"
      ],
      "metadata": {
        "id": "C4z8ZNf6Amhj"
      }
    },
    {
      "cell_type": "markdown",
      "source": [
        "Write a Python program to filter a list of integers using Lambda.\n",
        "Original list of integers:\n",
        "[1, 2, 3, 4, 5, 6, 7, 8, 9, 10]\n",
        "Even numbers from the said list:\n",
        "[2, 4, 6, 8, 10]\n",
        "Odd numbers from the said list:\n",
        "[1, 3, 5, 7, 9]"
      ],
      "metadata": {
        "id": "so0p88QeA9Ph"
      }
    },
    {
      "cell_type": "code",
      "source": [
        "# Create a list of integers named 'nums'\n",
        "nums = [1, 2, 3, 4, 5, 6, 7, 8, 9, 10]\n",
        "\n",
        "# Display a message indicating that the following output will show the original list of integers\n",
        "print(\"Original list of integers:\")\n",
        "print(nums)\n",
        "\n",
        "# Display a message indicating that the following output will show even numbers from the list\n",
        "print(\"\\nEven numbers from the said list:\")\n",
        "\n",
        "# Use the 'filter()' function with a lambda function to filter even numbers from 'nums'\n",
        "# Create a new list 'even_nums' containing only the even numbers from the original list\n",
        "even_nums = list(filter(lambda x: x % 2 == 0, nums))\n",
        "print(even_nums)\n",
        "\n",
        "# Display a message indicating that the following output will show odd numbers from the list\n",
        "print(\"\\nOdd numbers from the said list:\")\n",
        "\n",
        "# Use the 'filter()' function with a lambda function to filter odd numbers from 'nums'\n",
        "# Create a new list 'odd_nums' containing only the odd numbers from the original list\n",
        "odd_nums = list(filter(lambda x: x % 2 != 0, nums))\n",
        "print(odd_nums)"
      ],
      "metadata": {
        "colab": {
          "base_uri": "https://localhost:8080/"
        },
        "id": "51AAHO4pAy1c",
        "outputId": "fdf3b128-6744-4779-8389-5090d0b5f685"
      },
      "execution_count": 1,
      "outputs": [
        {
          "output_type": "stream",
          "name": "stdout",
          "text": [
            "Original list of integers:\n",
            "[1, 2, 3, 4, 5, 6, 7, 8, 9, 10]\n",
            "\n",
            "Even numbers from the said list:\n",
            "[2, 4, 6, 8, 10]\n",
            "\n",
            "Odd numbers from the said list:\n",
            "[1, 3, 5, 7, 9]\n"
          ]
        }
      ]
    }
  ]
}