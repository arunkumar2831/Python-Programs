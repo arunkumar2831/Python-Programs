{
  "nbformat": 4,
  "nbformat_minor": 0,
  "metadata": {
    "colab": {
      "provenance": [],
      "toc_visible": true,
      "authorship_tag": "ABX9TyMDNF7UmTd7DJhsUgIbTCHg",
      "include_colab_link": true
    },
    "kernelspec": {
      "name": "python3",
      "display_name": "Python 3"
    },
    "language_info": {
      "name": "python"
    }
  },
  "cells": [
    {
      "cell_type": "markdown",
      "metadata": {
        "id": "view-in-github",
        "colab_type": "text"
      },
      "source": [
        "<a href=\"https://colab.research.google.com/github/arunkumar2831/Python-Programs/blob/main/python_functionprograms.ipynb\" target=\"_parent\"><img src=\"https://colab.research.google.com/assets/colab-badge.svg\" alt=\"Open In Colab\"/></a>"
      ]
    },
    {
      "cell_type": "markdown",
      "source": [
        "### L1:LambdaFunctions"
      ],
      "metadata": {
        "id": "I9ERvrqcurRq"
      }
    },
    {
      "cell_type": "markdown",
      "source": [
        "Write a Python program to create a lambda function that adds 15 to a given number passed in as an argument, also create a lambda function that multiplies argument x with argument y and prints the result.\n",
        "Sample Output:\n",
        "25\n",
        "48\n"
      ],
      "metadata": {
        "id": "c_6NgyqmuxFP"
      }
    },
    {
      "cell_type": "code",
      "execution_count": 1,
      "metadata": {
        "colab": {
          "base_uri": "https://localhost:8080/"
        },
        "id": "MFFrwjgZue4-",
        "outputId": "39c869f4-67b6-47b4-b448-eb967db8bb05"
      },
      "outputs": [
        {
          "output_type": "stream",
          "name": "stdout",
          "text": [
            "25\n",
            "48\n"
          ]
        }
      ],
      "source": [
        "r = lambda a : a + 15\n",
        "print(r(10))\n",
        "\n",
        "r = lambda x,y: x*y\n",
        "print(r(12,4))"
      ]
    },
    {
      "cell_type": "markdown",
      "source": [
        "### L2:Function return Lambda funtion"
      ],
      "metadata": {
        "id": "ELtz4um6wEMz"
      }
    },
    {
      "cell_type": "markdown",
      "source": [
        "Write a Python program to create a function that takes one argument, and that argument will be multiplied with an unknown given number.\n",
        "Sample Output:\n",
        "Double the number of 15 = 30\n",
        "Triple the number of 15 = 45\n",
        "Quadruple the number of 15 = 60\n",
        "Quintuple the number 15 = 75"
      ],
      "metadata": {
        "id": "HS6-FwV9wPpa"
      }
    },
    {
      "cell_type": "code",
      "source": [
        "def newfunc(n):\n",
        "  return lambda x:x*n\n",
        "\n",
        "result = newfunc(2)\n",
        "print(\"Double the number of 15 :- \",result(15))\n",
        "\n",
        "result = newfunc(3)\n",
        "print(\"Triple the number of 15 :- \",result(15))\n",
        "\n",
        "result = newfunc(4)\n",
        "print(\"Quadruple the number of 15 :- \",result(15))\n",
        "\n",
        "result = newfunc(5)\n",
        "print(\"Quintuple the number of 15 :- \",result(15))\n",
        "\n"
      ],
      "metadata": {
        "colab": {
          "base_uri": "https://localhost:8080/"
        },
        "id": "Vjo5d4_UwV22",
        "outputId": "cb70eba4-bcc5-4512-902e-3a82837a9ac0"
      },
      "execution_count": 3,
      "outputs": [
        {
          "output_type": "stream",
          "name": "stdout",
          "text": [
            "Double the number of 15 :-  30\n",
            "Triple the number of 15 :-  45\n",
            "Quadruple the number of 15 :-  60\n",
            "Quintuple the number of 15 :-  75\n"
          ]
        }
      ]
    }
  ]
}