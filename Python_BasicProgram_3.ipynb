{
  "nbformat": 4,
  "nbformat_minor": 0,
  "metadata": {
    "colab": {
      "provenance": [],
      "toc_visible": true,
      "authorship_tag": "ABX9TyOj2Kc02NKTOP6BHmKR7ETI",
      "include_colab_link": true
    },
    "kernelspec": {
      "name": "python3",
      "display_name": "Python 3"
    },
    "language_info": {
      "name": "python"
    }
  },
  "cells": [
    {
      "cell_type": "markdown",
      "metadata": {
        "id": "view-in-github",
        "colab_type": "text"
      },
      "source": [
        "<a href=\"https://colab.research.google.com/github/arunkumar2831/Python-Programs/blob/main/Python_BasicProgram_3.ipynb\" target=\"_parent\"><img src=\"https://colab.research.google.com/assets/colab-badge.svg\" alt=\"Open In Colab\"/></a>"
      ]
    },
    {
      "cell_type": "markdown",
      "source": [
        "### P31:Count occurrences of an element"
      ],
      "metadata": {
        "id": "i5_kZJv5dnOZ"
      }
    },
    {
      "cell_type": "markdown",
      "source": [
        "Write a Python program to Count occurrences of an element in a list."
      ],
      "metadata": {
        "id": "xm2HyLuedtla"
      }
    },
    {
      "cell_type": "code",
      "execution_count": null,
      "metadata": {
        "colab": {
          "base_uri": "https://localhost:8080/"
        },
        "id": "Laeqag31dlMM",
        "outputId": "dac068b5-c500-417c-f72d-92684c382f83"
      },
      "outputs": [
        {
          "output_type": "stream",
          "name": "stdout",
          "text": [
            "The Element 6 is appears 7 times in my list\n"
          ]
        }
      ],
      "source": [
        "def count_occurrences(list, element):\n",
        "  celement=list.count(element)\n",
        "  return celement\n",
        "\n",
        "mylist = [1,1,1,2,3,5,6,7,1,3,34,545,5,6,6,6,6,5,5,5,6,6,7,4,2]\n",
        "el = 6\n",
        "occurences =  count_occurrences(mylist,el)\n",
        "print(f\"The Element {el} is appears {occurences} times in my list\")"
      ]
    },
    {
      "cell_type": "markdown",
      "source": [
        "### P32:Removing Ith character from a string."
      ],
      "metadata": {
        "id": "_ieFFrOlgZCa"
      }
    },
    {
      "cell_type": "markdown",
      "source": [
        "Write a Python program for removing Ith character from a string."
      ],
      "metadata": {
        "id": "efwjxeAeggqZ"
      }
    },
    {
      "cell_type": "code",
      "source": [
        "def remove_char(Input_string, i):\n",
        "  if i<0 and i>=len(Input_string):\n",
        "    print(f\"Invalid index{i}. The string remain unchanged.\")\n",
        "    return Input_string\n",
        "  result_str = Input_string[:i]+ Input_string[i+1:]\n",
        "  print( Input_string[:i])\n",
        "  print( Input_string[i+1:])\n",
        "  return result_str\n",
        "\n",
        "Input_string = \"Hello xWorld\"\n",
        "i = 6\n",
        "new_str = remove_char(Input_string,i)\n",
        "print(f\"The actual string: {Input_string}\")\n",
        "print(f\"String after removed {i} character :{new_str}\")\n"
      ],
      "metadata": {
        "colab": {
          "base_uri": "https://localhost:8080/"
        },
        "id": "KiGb3MbQglHK",
        "outputId": "b641187c-585d-41ae-9ede-175a2f25a3e4"
      },
      "execution_count": null,
      "outputs": [
        {
          "output_type": "stream",
          "name": "stdout",
          "text": [
            "Hello \n",
            "World\n",
            "The actual string: Hello xWorld\n",
            "String after removed 6 character :Hello World\n"
          ]
        }
      ]
    },
    {
      "cell_type": "markdown",
      "source": [
        "### P33:Split and Join a string."
      ],
      "metadata": {
        "id": "kAVdcE7xtK6y"
      }
    },
    {
      "cell_type": "markdown",
      "source": [
        "Write a Python program to split and join a string."
      ],
      "metadata": {
        "id": "pRLUy_bDtS-Z"
      }
    },
    {
      "cell_type": "code",
      "source": [
        "input_str=\"Write a Python program to split and join a string.\"\n",
        "split_str = input_str.split()\n",
        "join_str= (\" \").join(split_str)\n",
        "\n",
        "print(f\" Original String before Split and Join :-  \\\"{input_str}\\\"\")\n",
        "print(f\" Splited String :- {split_str}\")\n",
        "print(f\" Joined String  :- {join_str}\")"
      ],
      "metadata": {
        "colab": {
          "base_uri": "https://localhost:8080/"
        },
        "id": "T3BsmOK2tUnq",
        "outputId": "67eb2f2e-d003-4485-9cf0-6b7051b04734"
      },
      "execution_count": null,
      "outputs": [
        {
          "output_type": "stream",
          "name": "stdout",
          "text": [
            " Original String before Split and Join :-  \"Write a Python program to split and join a string.\"\n",
            " Splited String :- ['Write', 'a', 'Python', 'program', 'to', 'split', 'and', 'join', 'a', 'string.']\n",
            " Joined String  :- Write a Python program to split and join a string.\n"
          ]
        }
      ]
    },
    {
      "cell_type": "markdown",
      "source": [
        "### P34:Convert List into Dictionary"
      ],
      "metadata": {
        "id": "cSWxEUe67UGT"
      }
    },
    {
      "cell_type": "markdown",
      "source": [
        "Write a Python program to convert key-values list to flat dictionary."
      ],
      "metadata": {
        "id": "XMamkkBT8Fse"
      }
    },
    {
      "cell_type": "code",
      "source": [
        "key_value =[('a',1),('b',2),('c',3),('d',4),('e',5)]\n",
        "\n",
        "#initial an empty dictionary\n",
        "flat_arr={}\n",
        "\n",
        "for key, value in key_value:\n",
        "  flat_arr[key] = value\n",
        "\n",
        "print(f\"Before convert list to dictionary: {key_value}\")\n",
        "print(f\" After convert list to dictionary: {flat_arr}\")"
      ],
      "metadata": {
        "colab": {
          "base_uri": "https://localhost:8080/"
        },
        "id": "GPDcgk708K9H",
        "outputId": "268a55bd-4c0d-4352-ffb9-0e59e5478f2c"
      },
      "execution_count": null,
      "outputs": [
        {
          "output_type": "stream",
          "name": "stdout",
          "text": [
            "Before convert list to dictionary: [('a', 1), ('b', 2), ('c', 3), ('d', 4), ('e', 5)]\n",
            " After convert list to dictionary: {'a': 1, 'b': 2, 'c': 3, 'd': 4, 'e': 5}\n"
          ]
        }
      ]
    },
    {
      "cell_type": "markdown",
      "source": [
        "### P35:Enumerate Function"
      ],
      "metadata": {
        "id": "PB9ScDsWw0Vr"
      }
    },
    {
      "cell_type": "markdown",
      "source": [
        "write a python program to use enumerate() function with both a list and a string.\n",
        "Python have built-in function enumerate() for this task. The enumerate () method adds a counter to an iterable and returns it in the form of an enumerating object. This enumerated object can then be used directly for loops or converted into a list of tuples using the list() function."
      ],
      "metadata": {
        "id": "7CBqX_4-w1_X"
      }
    },
    {
      "cell_type": "code",
      "source": [
        "l1 = [\"eat\", \"sleep\", \"repeat\"]\n",
        "s1 = \"Arun\"\n",
        "\n",
        "# creating enumerate objects\n",
        "obj1 = enumerate(l1)\n",
        "obj2 = enumerate(s1)\n",
        "\n",
        "print (\"Return type:\", type(obj1))\n",
        "print (list(enumerate(l1)))\n",
        "print (list(enumerate(s1)))\n",
        "# changing start index to 2 from 0\n",
        "print (list(enumerate(s1, 2)))"
      ],
      "metadata": {
        "colab": {
          "base_uri": "https://localhost:8080/"
        },
        "id": "s5WKKJiSw4Zx",
        "outputId": "0c42f331-48e5-4c86-d8a2-0c9a2d9094c1"
      },
      "execution_count": null,
      "outputs": [
        {
          "output_type": "stream",
          "name": "stdout",
          "text": [
            "Return type: <class 'enumerate'>\n",
            "[(0, 'eat'), (1, 'sleep'), (2, 'repeat')]\n",
            "[(0, 'A'), (1, 'r'), (2, 'u'), (3, 'n')]\n",
            "[(2, 'A'), (3, 'r'), (4, 'u'), (5, 'n')]\n"
          ]
        }
      ]
    },
    {
      "cell_type": "markdown",
      "source": [
        "### P36: Find Sum of two numbers is equal to target value from the list"
      ],
      "metadata": {
        "id": "wSDuM6iW1I6g"
      }
    },
    {
      "cell_type": "markdown",
      "source": [
        "Given an array of integers nums and an integer target, return the indices of the two numbers that add up to the target."
      ],
      "metadata": {
        "id": "-ejMhVkV1isT"
      }
    },
    {
      "cell_type": "code",
      "source": [
        "def sumoftwo(nums, target):\n",
        "  for i in range(len(nums)):\n",
        "    for j in  range(i+1,len(nums)):\n",
        "      if nums[i] + nums[j] == target:\n",
        "          return [i,j]\n",
        "\n",
        "nums =[1,2,3,4,5]\n",
        "target = 8\n",
        "print(f\"The sum of two numbers index is equal 8 are : -{sumoftwo(nums,target)}\")\n",
        "\n",
        "\n"
      ],
      "metadata": {
        "colab": {
          "base_uri": "https://localhost:8080/"
        },
        "id": "Tt08MT361jur",
        "outputId": "ecb5c15e-6c69-4af4-9397-f93c178131c5"
      },
      "execution_count": 2,
      "outputs": [
        {
          "output_type": "stream",
          "name": "stdout",
          "text": [
            "The sum of two numbers index is equal 8 are : -[2, 4]\n"
          ]
        }
      ]
    }
  ]
}