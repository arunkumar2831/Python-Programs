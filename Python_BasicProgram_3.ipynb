{
  "nbformat": 4,
  "nbformat_minor": 0,
  "metadata": {
    "colab": {
      "provenance": [],
      "toc_visible": true,
      "authorship_tag": "ABX9TyOvfYfFg79a9zOtrwScAyh7",
      "include_colab_link": true
    },
    "kernelspec": {
      "name": "python3",
      "display_name": "Python 3"
    },
    "language_info": {
      "name": "python"
    }
  },
  "cells": [
    {
      "cell_type": "markdown",
      "metadata": {
        "id": "view-in-github",
        "colab_type": "text"
      },
      "source": [
        "<a href=\"https://colab.research.google.com/github/arunkumar2831/Python-Programs/blob/main/Python_BasicProgram_3.ipynb\" target=\"_parent\"><img src=\"https://colab.research.google.com/assets/colab-badge.svg\" alt=\"Open In Colab\"/></a>"
      ]
    },
    {
      "cell_type": "markdown",
      "source": [
        "### P31:Count occurrences of an element"
      ],
      "metadata": {
        "id": "i5_kZJv5dnOZ"
      }
    },
    {
      "cell_type": "markdown",
      "source": [
        "Write a Python program to Count occurrences of an element in a list."
      ],
      "metadata": {
        "id": "xm2HyLuedtla"
      }
    },
    {
      "cell_type": "code",
      "execution_count": null,
      "metadata": {
        "colab": {
          "base_uri": "https://localhost:8080/"
        },
        "id": "Laeqag31dlMM",
        "outputId": "dac068b5-c500-417c-f72d-92684c382f83"
      },
      "outputs": [
        {
          "output_type": "stream",
          "name": "stdout",
          "text": [
            "The Element 6 is appears 7 times in my list\n"
          ]
        }
      ],
      "source": [
        "def count_occurrences(list, element):\n",
        "  celement=list.count(element)\n",
        "  return celement\n",
        "\n",
        "mylist = [1,1,1,2,3,5,6,7,1,3,34,545,5,6,6,6,6,5,5,5,6,6,7,4,2]\n",
        "el = 6\n",
        "occurences =  count_occurrences(mylist,el)\n",
        "print(f\"The Element {el} is appears {occurences} times in my list\")"
      ]
    },
    {
      "cell_type": "markdown",
      "source": [
        "### P32:Removing Ith character from a string."
      ],
      "metadata": {
        "id": "_ieFFrOlgZCa"
      }
    },
    {
      "cell_type": "markdown",
      "source": [
        "Write a Python program for removing Ith character from a string."
      ],
      "metadata": {
        "id": "efwjxeAeggqZ"
      }
    },
    {
      "cell_type": "code",
      "source": [
        "def remove_char(Input_string, i):\n",
        "  if i<0 and i>=len(Input_string):\n",
        "    print(f\"Invalid index{i}. The string remain unchanged.\")\n",
        "    return Input_string\n",
        "  result_str = Input_string[:i]+ Input_string[i+1:]\n",
        "  print( Input_string[:i])\n",
        "  print( Input_string[i+1:])\n",
        "  return result_str\n",
        "\n",
        "Input_string = \"Hello xWorld\"\n",
        "i = 6\n",
        "new_str = remove_char(Input_string,i)\n",
        "print(f\"The actual string: {Input_string}\")\n",
        "print(f\"String after removed {i} character :{new_str}\")\n"
      ],
      "metadata": {
        "colab": {
          "base_uri": "https://localhost:8080/"
        },
        "id": "KiGb3MbQglHK",
        "outputId": "b641187c-585d-41ae-9ede-175a2f25a3e4"
      },
      "execution_count": null,
      "outputs": [
        {
          "output_type": "stream",
          "name": "stdout",
          "text": [
            "Hello \n",
            "World\n",
            "The actual string: Hello xWorld\n",
            "String after removed 6 character :Hello World\n"
          ]
        }
      ]
    },
    {
      "cell_type": "markdown",
      "source": [
        "### P33:Split and Join a string."
      ],
      "metadata": {
        "id": "kAVdcE7xtK6y"
      }
    },
    {
      "cell_type": "markdown",
      "source": [
        "Write a Python program to split and join a string."
      ],
      "metadata": {
        "id": "pRLUy_bDtS-Z"
      }
    },
    {
      "cell_type": "code",
      "source": [
        "input_str=\"Write a Python program to split and join a string.\"\n",
        "split_str = input_str.split()\n",
        "join_str= (\" \").join(split_str)\n",
        "\n",
        "print(f\" Original String before Split and Join :-  \\\"{input_str}\\\"\")\n",
        "print(f\" Splited String :- {split_str}\")\n",
        "print(f\" Joined String  :- {join_str}\")"
      ],
      "metadata": {
        "colab": {
          "base_uri": "https://localhost:8080/"
        },
        "id": "T3BsmOK2tUnq",
        "outputId": "67eb2f2e-d003-4485-9cf0-6b7051b04734"
      },
      "execution_count": 3,
      "outputs": [
        {
          "output_type": "stream",
          "name": "stdout",
          "text": [
            " Original String before Split and Join :-  \"Write a Python program to split and join a string.\"\n",
            " Splited String :- ['Write', 'a', 'Python', 'program', 'to', 'split', 'and', 'join', 'a', 'string.']\n",
            " Joined String  :- Write a Python program to split and join a string.\n"
          ]
        }
      ]
    }
  ]
}