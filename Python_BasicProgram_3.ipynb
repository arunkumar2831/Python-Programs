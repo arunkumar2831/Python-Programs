{
  "nbformat": 4,
  "nbformat_minor": 0,
  "metadata": {
    "colab": {
      "provenance": [],
      "toc_visible": true,
      "authorship_tag": "ABX9TyMHMRTXqnrRvq7Elgzm80Ar",
      "include_colab_link": true
    },
    "kernelspec": {
      "name": "python3",
      "display_name": "Python 3"
    },
    "language_info": {
      "name": "python"
    }
  },
  "cells": [
    {
      "cell_type": "markdown",
      "metadata": {
        "id": "view-in-github",
        "colab_type": "text"
      },
      "source": [
        "<a href=\"https://colab.research.google.com/github/arunkumar2831/Python-Programs/blob/main/Python_BasicProgram_3.ipynb\" target=\"_parent\"><img src=\"https://colab.research.google.com/assets/colab-badge.svg\" alt=\"Open In Colab\"/></a>"
      ]
    },
    {
      "cell_type": "markdown",
      "source": [
        "### P31:Count occurrences of an element"
      ],
      "metadata": {
        "id": "i5_kZJv5dnOZ"
      }
    },
    {
      "cell_type": "markdown",
      "source": [
        "Write a Python program to Count occurrences of an element in a list."
      ],
      "metadata": {
        "id": "xm2HyLuedtla"
      }
    },
    {
      "cell_type": "code",
      "execution_count": null,
      "metadata": {
        "colab": {
          "base_uri": "https://localhost:8080/"
        },
        "id": "Laeqag31dlMM",
        "outputId": "dac068b5-c500-417c-f72d-92684c382f83"
      },
      "outputs": [
        {
          "output_type": "stream",
          "name": "stdout",
          "text": [
            "The Element 6 is appears 7 times in my list\n"
          ]
        }
      ],
      "source": [
        "def count_occurrences(list, element):\n",
        "  celement=list.count(element)\n",
        "  return celement\n",
        "\n",
        "mylist = [1,1,1,2,3,5,6,7,1,3,34,545,5,6,6,6,6,5,5,5,6,6,7,4,2]\n",
        "el = 6\n",
        "occurences =  count_occurrences(mylist,el)\n",
        "print(f\"The Element {el} is appears {occurences} times in my list\")"
      ]
    },
    {
      "cell_type": "markdown",
      "source": [
        "### P32:Removing Ith character from a string."
      ],
      "metadata": {
        "id": "_ieFFrOlgZCa"
      }
    },
    {
      "cell_type": "markdown",
      "source": [
        "Write a Python program for removing Ith character from a string."
      ],
      "metadata": {
        "id": "efwjxeAeggqZ"
      }
    },
    {
      "cell_type": "code",
      "source": [
        "def remove_char(Input_string, i):\n",
        "  if i<0 and i>=len(Input_string):\n",
        "    print(f\"Invalid index{i}. The string remain unchanged.\")\n",
        "    return Input_string\n",
        "  result_str = Input_string[:i]+ Input_string[i+1:]\n",
        "  print( Input_string[:i])\n",
        "  print( Input_string[i+1:])\n",
        "  return result_str\n",
        "\n",
        "Input_string = \"Hello xWorld\"\n",
        "i = 6\n",
        "new_str = remove_char(Input_string,i)\n",
        "print(f\"The actual string: {Input_string}\")\n",
        "print(f\"String after removed {i} character :{new_str}\")\n"
      ],
      "metadata": {
        "colab": {
          "base_uri": "https://localhost:8080/"
        },
        "id": "KiGb3MbQglHK",
        "outputId": "b641187c-585d-41ae-9ede-175a2f25a3e4"
      },
      "execution_count": null,
      "outputs": [
        {
          "output_type": "stream",
          "name": "stdout",
          "text": [
            "Hello \n",
            "World\n",
            "The actual string: Hello xWorld\n",
            "String after removed 6 character :Hello World\n"
          ]
        }
      ]
    },
    {
      "cell_type": "markdown",
      "source": [
        "### P33:Split and Join a string."
      ],
      "metadata": {
        "id": "kAVdcE7xtK6y"
      }
    },
    {
      "cell_type": "markdown",
      "source": [
        "Write a Python program to split and join a string."
      ],
      "metadata": {
        "id": "pRLUy_bDtS-Z"
      }
    },
    {
      "cell_type": "code",
      "source": [
        "input_str=\"Write a Python program to split and join a string.\"\n",
        "split_str = input_str.split()\n",
        "join_str= (\" \").join(split_str)\n",
        "\n",
        "print(f\" Original String before Split and Join :-  \\\"{input_str}\\\"\")\n",
        "print(f\" Splited String :- {split_str}\")\n",
        "print(f\" Joined String  :- {join_str}\")"
      ],
      "metadata": {
        "colab": {
          "base_uri": "https://localhost:8080/"
        },
        "id": "T3BsmOK2tUnq",
        "outputId": "67eb2f2e-d003-4485-9cf0-6b7051b04734"
      },
      "execution_count": null,
      "outputs": [
        {
          "output_type": "stream",
          "name": "stdout",
          "text": [
            " Original String before Split and Join :-  \"Write a Python program to split and join a string.\"\n",
            " Splited String :- ['Write', 'a', 'Python', 'program', 'to', 'split', 'and', 'join', 'a', 'string.']\n",
            " Joined String  :- Write a Python program to split and join a string.\n"
          ]
        }
      ]
    },
    {
      "cell_type": "markdown",
      "source": [
        "### P34:Convert List into Dictionary"
      ],
      "metadata": {
        "id": "cSWxEUe67UGT"
      }
    },
    {
      "cell_type": "markdown",
      "source": [
        "Write a Python program to convert key-values list to flat dictionary."
      ],
      "metadata": {
        "id": "XMamkkBT8Fse"
      }
    },
    {
      "cell_type": "code",
      "source": [
        "key_value =[('a',1),('b',2),('c',3),('d',4),('e',5)]\n",
        "\n",
        "#initial an empty dictionary\n",
        "flat_arr={}\n",
        "\n",
        "for key, value in key_value:\n",
        "  flat_arr[key] = value\n",
        "\n",
        "print(f\"Before convert list to dictionary: {key_value}\")\n",
        "print(f\" After convert list to dictionary: {flat_arr}\")"
      ],
      "metadata": {
        "colab": {
          "base_uri": "https://localhost:8080/"
        },
        "id": "GPDcgk708K9H",
        "outputId": "268a55bd-4c0d-4352-ffb9-0e59e5478f2c"
      },
      "execution_count": null,
      "outputs": [
        {
          "output_type": "stream",
          "name": "stdout",
          "text": [
            "Before convert list to dictionary: [('a', 1), ('b', 2), ('c', 3), ('d', 4), ('e', 5)]\n",
            " After convert list to dictionary: {'a': 1, 'b': 2, 'c': 3, 'd': 4, 'e': 5}\n"
          ]
        }
      ]
    },
    {
      "cell_type": "markdown",
      "source": [
        "### P35:Enumerate Function"
      ],
      "metadata": {
        "id": "PB9ScDsWw0Vr"
      }
    },
    {
      "cell_type": "markdown",
      "source": [
        "write a python program to use enumerate() function with both a list and a string.\n",
        "Python have built-in function enumerate() for this task. The enumerate () method adds a counter to an iterable and returns it in the form of an enumerating object. This enumerated object can then be used directly for loops or converted into a list of tuples using the list() function."
      ],
      "metadata": {
        "id": "7CBqX_4-w1_X"
      }
    },
    {
      "cell_type": "code",
      "source": [
        "l1 = [\"eat\", \"sleep\", \"repeat\"]\n",
        "s1 = \"Arun\"\n",
        "\n",
        "# creating enumerate objects\n",
        "obj1 = enumerate(l1)\n",
        "obj2 = enumerate(s1)\n",
        "\n",
        "print (\"Return type:\", type(obj1))\n",
        "print (list(enumerate(l1)))\n",
        "print (list(enumerate(s1)))\n",
        "# changing start index to 2 from 0\n",
        "print (list(enumerate(s1, 2)))"
      ],
      "metadata": {
        "colab": {
          "base_uri": "https://localhost:8080/"
        },
        "id": "s5WKKJiSw4Zx",
        "outputId": "0c42f331-48e5-4c86-d8a2-0c9a2d9094c1"
      },
      "execution_count": null,
      "outputs": [
        {
          "output_type": "stream",
          "name": "stdout",
          "text": [
            "Return type: <class 'enumerate'>\n",
            "[(0, 'eat'), (1, 'sleep'), (2, 'repeat')]\n",
            "[(0, 'A'), (1, 'r'), (2, 'u'), (3, 'n')]\n",
            "[(2, 'A'), (3, 'r'), (4, 'u'), (5, 'n')]\n"
          ]
        }
      ]
    },
    {
      "cell_type": "markdown",
      "source": [
        "### P36: Find Sum of two numbers is equal to target value from the list"
      ],
      "metadata": {
        "id": "wSDuM6iW1I6g"
      }
    },
    {
      "cell_type": "markdown",
      "source": [
        "Given an array of integers nums and an integer target, return the indices of the two numbers that add up to the target."
      ],
      "metadata": {
        "id": "-ejMhVkV1isT"
      }
    },
    {
      "cell_type": "code",
      "source": [
        "def sumoftwo(nums, target):\n",
        "  for i in range(len(nums)):\n",
        "    for j in  range(i+1,len(nums)):\n",
        "      if nums[i] + nums[j] == target:\n",
        "          return [i,j]\n",
        "\n",
        "nums =[1,2,3,4,5]\n",
        "target = 8\n",
        "print(f\"The sum of two numbers index is equal 8 are : -{sumoftwo(nums,target)}\")\n",
        "\n",
        "\n"
      ],
      "metadata": {
        "colab": {
          "base_uri": "https://localhost:8080/"
        },
        "id": "Tt08MT361jur",
        "outputId": "ecb5c15e-6c69-4af4-9397-f93c178131c5"
      },
      "execution_count": null,
      "outputs": [
        {
          "output_type": "stream",
          "name": "stdout",
          "text": [
            "The sum of two numbers index is equal 8 are : -[2, 4]\n"
          ]
        }
      ]
    },
    {
      "cell_type": "markdown",
      "source": [
        "### P37:Merging two Dictionaries."
      ],
      "metadata": {
        "id": "nIaoHJgiGuDk"
      }
    },
    {
      "cell_type": "markdown",
      "source": [
        "Write a Python program to Merging two Dictionaries.\n",
        "Method 1: Using Update() method"
      ],
      "metadata": {
        "id": "Q6CUu1O1GyEZ"
      }
    },
    {
      "cell_type": "code",
      "source": [
        "dict1 ={'a':1, 'b':2}\n",
        "dict2={'c':3,'d':4}\n",
        "print(f\"Before merge dict 1 is : {dict1} and dict 2 is : {dict2}\")\n",
        "dict1.update(dict2)\n",
        "\n",
        "print(f\"Merged two Dictionaries(using update() method) values are : {dict1}\")"
      ],
      "metadata": {
        "colab": {
          "base_uri": "https://localhost:8080/"
        },
        "id": "fSVzaBDaG0Oa",
        "outputId": "4cd845fc-9d87-402c-ee43-e2509aea0912"
      },
      "execution_count": null,
      "outputs": [
        {
          "output_type": "stream",
          "name": "stdout",
          "text": [
            "Before merge dict 1 is : {'a': 1, 'b': 2} and dict 2 is : {'c': 3, 'd': 4}\n",
            "Merged two Dictionaries(using update() method) values are : {'a': 1, 'b': 2, 'c': 3, 'd': 4}\n"
          ]
        }
      ]
    },
    {
      "cell_type": "markdown",
      "source": [
        "Method 2: dictionary unpacking"
      ],
      "metadata": {
        "id": "BQJ3uFlyH3h5"
      }
    },
    {
      "cell_type": "code",
      "source": [
        "dict1 ={'a':1, 'b':2}\n",
        "dict2={'c':3,'d':4}\n",
        "print(f\"Before merge dict 1 is : {dict1} and dict 2 is : {dict2}\")\n",
        "newdict = {**dict1,**dict2}\n",
        "print(f\"Merged two Dictionaries(using dictionary unpacking) values are : {newdict}\")"
      ],
      "metadata": {
        "colab": {
          "base_uri": "https://localhost:8080/"
        },
        "id": "FPztvjLLIG36",
        "outputId": "7b969fb9-33b2-4f34-84b7-f265cd7f9cf1"
      },
      "execution_count": null,
      "outputs": [
        {
          "output_type": "stream",
          "name": "stdout",
          "text": [
            "Before merge dict 1 is : {'a': 1, 'b': 2} and dict 2 is : {'c': 3, 'd': 4}\n",
            "Merged two Dictionaries(using dictionary unpacking) values are : {'a': 1, 'b': 2, 'c': 3, 'd': 4}\n"
          ]
        }
      ]
    },
    {
      "cell_type": "markdown",
      "source": [
        "### P38:Convert key-values list to flat dictionary."
      ],
      "metadata": {
        "id": "9_uFSkCMIdRI"
      }
    },
    {
      "cell_type": "markdown",
      "source": [
        "Write a Python program to convert key-values list to flat dictionary"
      ],
      "metadata": {
        "id": "R9fW0VX9IjQF"
      }
    },
    {
      "cell_type": "code",
      "source": [
        "key_value_list = [('a',1),('b',2),('c',3),('d',4)]\n",
        "flat_dict={}\n",
        "for key, value in key_value_list:\n",
        "  flat_dict[key]=value\n",
        "print(f\" Key-value list : {key_value_list}\")\n",
        "print(f\" After converted the key-value list to flat dictionary : {flat_dict}\")"
      ],
      "metadata": {
        "colab": {
          "base_uri": "https://localhost:8080/"
        },
        "id": "6nywsSI9Ilcz",
        "outputId": "90f13371-6c54-49d1-82dc-8df7e9b9b104"
      },
      "execution_count": null,
      "outputs": [
        {
          "output_type": "stream",
          "name": "stdout",
          "text": [
            " Key-value list : [('a', 1), ('b', 2), ('c', 3), ('d', 4)]\n",
            " After converted the key-value list to flat dictionary : {'a': 1, 'b': 2, 'c': 3, 'd': 4}\n"
          ]
        }
      ]
    },
    {
      "cell_type": "markdown",
      "source": [
        "### P39:Generates a 2-Dimensionalarray"
      ],
      "metadata": {
        "id": "SeTIfuUyCtsH"
      }
    },
    {
      "cell_type": "markdown",
      "source": [
        "Write a program which takes 2 digits, X,Y as input and generates a 2-dimensionalarray. The element value in the i-th row and j-th column of the array should be i*j.\n",
        "Note: i=0,1.., X-1; j=0,1,¡Y-1."
      ],
      "metadata": {
        "id": "w3AFNXIRC3X5"
      }
    },
    {
      "cell_type": "code",
      "source": [
        "x,y =map(int, input(\"Enter two digits(x, y): \").split(','))\n",
        "#map() function returns a map object(which is an iterator) of the results after applying the given function to each item of a given iterable\n",
        "array = [[0 for j in range(y)] for i in range(x)]\n",
        "\n",
        "# print(array)\n",
        "\n",
        "for i in range(x):\n",
        "  for j in range(y):\n",
        "    array[i][j]=i*j\n",
        "\n",
        "for row in array:\n",
        "  print(row)\n"
      ],
      "metadata": {
        "colab": {
          "base_uri": "https://localhost:8080/"
        },
        "id": "ClAzAneEC7Cq",
        "outputId": "53b0e56b-198b-419c-bdf2-c9decd43caba"
      },
      "execution_count": null,
      "outputs": [
        {
          "output_type": "stream",
          "name": "stdout",
          "text": [
            "Enter two digits(x, y): 3,5\n",
            "[[0, 0, 0, 0, 0], [0, 0, 0, 0, 0], [0, 0, 0, 0, 0]]\n",
            "[0, 0, 0, 0, 0]\n",
            "[0, 1, 2, 3, 4]\n",
            "[0, 2, 4, 6, 8]\n"
          ]
        }
      ]
    },
    {
      "cell_type": "markdown",
      "source": [
        "### P40:Split and sort the words and join the sorted words"
      ],
      "metadata": {
        "id": "DfyxLw2Giw56"
      }
    },
    {
      "cell_type": "markdown",
      "source": [
        "Write a program that accepts a comma separated sequence of words as input andprints the words in a comma-separated sequence after sorting them alphabetically.\n",
        "Suppose the following input is supplied to the program:\n",
        "without,hello,bag,world\n",
        "Then, the output should be:\n",
        "bag,hello,without,world"
      ],
      "metadata": {
        "id": "xxozMB1ni6hh"
      }
    },
    {
      "cell_type": "code",
      "source": [
        "mystring = str(input(\"Enter the string with comma separator :- \"))\n",
        "splitstr = mystring.split(\",\")\n",
        "sortstr = sorted(splitstr)\n",
        "sorted_str = \",\".join(sortstr)\n",
        "print(f\" Input string before split and sort :- {mystring}\")\n",
        "print(f\" Output string after split and sort :- {sorted_str}\")"
      ],
      "metadata": {
        "colab": {
          "base_uri": "https://localhost:8080/"
        },
        "id": "uMNW-v3oi7h-",
        "outputId": "1b169149-cbc1-4da3-c4c3-82021007dccd"
      },
      "execution_count": 3,
      "outputs": [
        {
          "output_type": "stream",
          "name": "stdout",
          "text": [
            "Enter the string with comma separator :- without,hello,bag,world,Then\n",
            " Input string before split and sort :- without,hello,bag,world,Then\n",
            " Output string after split and sort :- Then,bag,hello,without,world\n"
          ]
        }
      ]
    },
    {
      "cell_type": "markdown",
      "source": [
        "### P41:Create a Main Class and its subClass program"
      ],
      "metadata": {
        "id": "0xBkg4Zwo5Ni"
      }
    },
    {
      "cell_type": "markdown",
      "source": [
        "Define a class named Shape and its subclass Square. The Square class has an initfunction which takes a length as argument. Both classes have an area function whichcan print the area of the shape where Shape's area is 0 by default."
      ],
      "metadata": {
        "id": "_N0pqDdtpDM3"
      }
    },
    {
      "cell_type": "code",
      "source": [
        "class Shape:\n",
        "  def __init__(self):\n",
        "    pass # Default constructor, no need to initialize anything\n",
        "  def area(self):\n",
        "    return 0 # Shape area is 0 by default.\n",
        "\n",
        "class Square(Shape):\n",
        "  def __init__(self, length):\n",
        "    super().__init__() # call the constructor of the parent class\n",
        "    self.length= length\n",
        "\n",
        "  def area(self):\n",
        "    return self.length ** 2 # calculate the area of square.\n",
        "\n",
        "#create the instance of the class.\n",
        "shape = Shape()\n",
        "square_length = float(input(\"Enter the length of the square: \"))\n",
        "square = Square(square_length)\n",
        "\n",
        "#calculate and print the area:\n",
        "print(\"Shape's of the area by default\", shape.area())\n",
        "print(\"Area of the asquare\", square.area())\n",
        "\n",
        "\n",
        "\n"
      ],
      "metadata": {
        "colab": {
          "base_uri": "https://localhost:8080/"
        },
        "id": "fmVbd0A6pCW1",
        "outputId": "9cec5b94-f363-4246-cdfa-d2d396501914"
      },
      "execution_count": 9,
      "outputs": [
        {
          "output_type": "stream",
          "name": "stdout",
          "text": [
            "Enter the length of the square: 5\n",
            "Shape's of the area by default 0\n",
            "Area of the asquare 25.0\n"
          ]
        }
      ]
    }
  ]
}