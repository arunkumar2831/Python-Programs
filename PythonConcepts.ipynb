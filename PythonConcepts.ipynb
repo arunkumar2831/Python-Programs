{
  "nbformat": 4,
  "nbformat_minor": 0,
  "metadata": {
    "colab": {
      "provenance": [],
      "toc_visible": true,
      "authorship_tag": "ABX9TyPJB3/mwCP2GF4TEaptCFIw",
      "include_colab_link": true
    },
    "kernelspec": {
      "name": "python3",
      "display_name": "Python 3"
    },
    "language_info": {
      "name": "python"
    }
  },
  "cells": [
    {
      "cell_type": "markdown",
      "metadata": {
        "id": "view-in-github",
        "colab_type": "text"
      },
      "source": [
        "<a href=\"https://colab.research.google.com/github/arunkumar2831/Python-Programs/blob/main/PythonConcepts.ipynb\" target=\"_parent\"><img src=\"https://colab.research.google.com/assets/colab-badge.svg\" alt=\"Open In Colab\"/></a>"
      ]
    },
    {
      "cell_type": "markdown",
      "source": [
        "### C1:Multithreading"
      ],
      "metadata": {
        "id": "AfTCAlhqzLAi"
      }
    },
    {
      "cell_type": "markdown",
      "source": [
        "Write a python program use the multithreading concepts."
      ],
      "metadata": {
        "id": "p1yd76f5zSp-"
      }
    },
    {
      "cell_type": "code",
      "execution_count": null,
      "metadata": {
        "colab": {
          "base_uri": "https://localhost:8080/"
        },
        "id": "oStTQ1wzzH37",
        "outputId": "7e5eba23-769e-460f-ce33-628f00980685"
      },
      "outputs": [
        {
          "output_type": "stream",
          "name": "stdout",
          "text": [
            "Calculate the SquareRoot: \n",
            "Square of 2 is : 4\n",
            "Square of 3 is : 9\n",
            "Square of 8 is : 64\n",
            "Square of 9 is : 81\n",
            "Calculate the SquareRoot: \n",
            "Cube of 2 is : 8\n",
            "Cube of 3 is : 27\n",
            "Cube of 8 is : 512\n",
            "Cube of 9 is : 729\n",
            "Time taken to complete without using multithreading it :- 1.6090025901794434\n",
            "Task completed before using multithreading\n",
            "Calculate the SquareRoot: \n",
            "Calculate the SquareRoot: \n",
            "Square of 2 is : 4\n",
            "Cube of 2 is : 8\n",
            "Square of 3 is : 9\n",
            "Cube of 3 is : 27\n",
            "Square of 8 is : 64\n",
            "Cube of 8 is : 512\n",
            "Square of 9 is : 81\n",
            "Cube of 9 is : 729\n",
            "Time taken to complete using multithreading it :- 0.8060972690582275\n",
            "Task completed after using multithreading\n"
          ]
        }
      ],
      "source": [
        "import time\n",
        "import threading\n",
        "\n",
        "def calc_square(number):\n",
        "  print(\"Calculate the SquareRoot: \")\n",
        "  for n in number:\n",
        "    time.sleep(0.2)\n",
        "    print(f\"Square of {n} is : {n*n}\")\n",
        "\n",
        "def calc_cube(number):\n",
        "  print(\"Calculate the SquareRoot: \")\n",
        "  for n in number:\n",
        "    time.sleep(0.2)\n",
        "    print(f\"Cube of {n} is : {n*n*n}\")\n",
        "\n",
        "arr = [2,3,8,9]\n",
        "t=time.time()# get the current time\n",
        "calc_square(arr)#excute the function\n",
        "calc_cube(arr)#excute the function\n",
        "print(\"Time taken to complete without using multithreading it :-\", time.time()-t)\n",
        "print(\"Task completed before using multithreading\")\n",
        "th=time.time()\n",
        "#Create first thread\n",
        "t1=threading.Thread(target=calc_square, args=(arr,))#here passing args as turples.\n",
        "#Create second thread\n",
        "t2=threading.Thread(target=calc_cube, args=(arr,))\n",
        "#start the thread\n",
        "t1.start()\n",
        "t2.start()\n",
        "#join the multiple threads with main thread\n",
        "t1.join()\n",
        "t2.join()\n",
        "print(\"Time taken to complete using multithreading it :-\", time.time()-th)\n",
        "print(\"Task completed after using multithreading\")"
      ]
    },
    {
      "cell_type": "markdown",
      "source": [
        "### C2:Multiprocessing"
      ],
      "metadata": {
        "id": "l8vfDFkH30N_"
      }
    },
    {
      "cell_type": "markdown",
      "source": [
        "Write a example program using multiprocessing with shared memory"
      ],
      "metadata": {
        "id": "4ChJ_ZHJ37JQ"
      }
    },
    {
      "cell_type": "code",
      "source": [
        "import multiprocessing\n",
        "\n",
        "def calc_square(numbers, result):\n",
        "  for idx, n in enumerate(numbers):#enumerate function used to create array with index\n",
        "    result[idx] = n*n\n",
        "\n",
        "if __name__ == \"__main__\":\n",
        "  numbers = [2,3,5]\n",
        "  result=multiprocessing.Array('i',3)# Create empty multiprocess array to store function return values\n",
        "  print(result[:])\n",
        "  p=multiprocessing.Process(target=calc_square,args=(numbers, result)) # pass function and its arguments to multiprocess\n",
        "  p.start() # Start multiple processing\n",
        "  p.join() # Stop multiple processing\n",
        "  print(result[:])# \"[:]\" is used to print all the values inside the array\n"
      ],
      "metadata": {
        "colab": {
          "base_uri": "https://localhost:8080/"
        },
        "id": "LKr1RPWR4CfQ",
        "outputId": "ec94828e-796b-4031-d155-6d5d0ee0aeec"
      },
      "execution_count": 7,
      "outputs": [
        {
          "output_type": "stream",
          "name": "stdout",
          "text": [
            "[0, 0, 0]\n",
            "[4, 9, 25]\n"
          ]
        }
      ]
    }
  ]
}