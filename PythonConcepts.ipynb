{
  "nbformat": 4,
  "nbformat_minor": 0,
  "metadata": {
    "colab": {
      "provenance": [],
      "toc_visible": true,
      "authorship_tag": "ABX9TyM6yKrxJoSKvLJ1iAGlXZO3",
      "include_colab_link": true
    },
    "kernelspec": {
      "name": "python3",
      "display_name": "Python 3"
    },
    "language_info": {
      "name": "python"
    }
  },
  "cells": [
    {
      "cell_type": "markdown",
      "metadata": {
        "id": "view-in-github",
        "colab_type": "text"
      },
      "source": [
        "<a href=\"https://colab.research.google.com/github/arunkumar2831/Python-Programs/blob/main/PythonConcepts.ipynb\" target=\"_parent\"><img src=\"https://colab.research.google.com/assets/colab-badge.svg\" alt=\"Open In Colab\"/></a>"
      ]
    },
    {
      "cell_type": "markdown",
      "source": [
        "### C1:Multithreading"
      ],
      "metadata": {
        "id": "AfTCAlhqzLAi"
      }
    },
    {
      "cell_type": "markdown",
      "source": [
        "Write a python program use the multithreading concepts."
      ],
      "metadata": {
        "id": "p1yd76f5zSp-"
      }
    },
    {
      "cell_type": "code",
      "execution_count": null,
      "metadata": {
        "colab": {
          "base_uri": "https://localhost:8080/"
        },
        "id": "oStTQ1wzzH37",
        "outputId": "7e5eba23-769e-460f-ce33-628f00980685"
      },
      "outputs": [
        {
          "output_type": "stream",
          "name": "stdout",
          "text": [
            "Calculate the SquareRoot: \n",
            "Square of 2 is : 4\n",
            "Square of 3 is : 9\n",
            "Square of 8 is : 64\n",
            "Square of 9 is : 81\n",
            "Calculate the SquareRoot: \n",
            "Cube of 2 is : 8\n",
            "Cube of 3 is : 27\n",
            "Cube of 8 is : 512\n",
            "Cube of 9 is : 729\n",
            "Time taken to complete without using multithreading it :- 1.6090025901794434\n",
            "Task completed before using multithreading\n",
            "Calculate the SquareRoot: \n",
            "Calculate the SquareRoot: \n",
            "Square of 2 is : 4\n",
            "Cube of 2 is : 8\n",
            "Square of 3 is : 9\n",
            "Cube of 3 is : 27\n",
            "Square of 8 is : 64\n",
            "Cube of 8 is : 512\n",
            "Square of 9 is : 81\n",
            "Cube of 9 is : 729\n",
            "Time taken to complete using multithreading it :- 0.8060972690582275\n",
            "Task completed after using multithreading\n"
          ]
        }
      ],
      "source": [
        "import time\n",
        "import threading\n",
        "\n",
        "def calc_square(number):\n",
        "  print(\"Calculate the SquareRoot: \")\n",
        "  for n in number:\n",
        "    time.sleep(0.2)\n",
        "    print(f\"Square of {n} is : {n*n}\")\n",
        "\n",
        "def calc_cube(number):\n",
        "  print(\"Calculate the SquareRoot: \")\n",
        "  for n in number:\n",
        "    time.sleep(0.2)\n",
        "    print(f\"Cube of {n} is : {n*n*n}\")\n",
        "\n",
        "arr = [2,3,8,9]\n",
        "t=time.time()# get the current time\n",
        "calc_square(arr)#excute the function\n",
        "calc_cube(arr)#excute the function\n",
        "print(\"Time taken to complete without using multithreading it :-\", time.time()-t)\n",
        "print(\"Task completed before using multithreading\")\n",
        "th=time.time()\n",
        "#Create first thread\n",
        "t1=threading.Thread(target=calc_square, args=(arr,))#here passing args as turples.\n",
        "#Create second thread\n",
        "t2=threading.Thread(target=calc_cube, args=(arr,))\n",
        "#start the thread\n",
        "t1.start()\n",
        "t2.start()\n",
        "#join the multiple threads with main thread\n",
        "t1.join()\n",
        "t2.join()\n",
        "print(\"Time taken to complete using multithreading it :-\", time.time()-th)\n",
        "print(\"Task completed after using multithreading\")"
      ]
    },
    {
      "cell_type": "markdown",
      "source": [
        "### C2:Multiprocessing"
      ],
      "metadata": {
        "id": "l8vfDFkH30N_"
      }
    },
    {
      "cell_type": "markdown",
      "source": [
        "Write a example program using multiprocessing with shared memory"
      ],
      "metadata": {
        "id": "4ChJ_ZHJ37JQ"
      }
    },
    {
      "cell_type": "code",
      "source": [
        "import multiprocessing\n",
        "\n",
        "def calc_square(numbers, result):\n",
        "  for idx, n in enumerate(numbers):#enumerate function used to create array with index\n",
        "    result[idx] = n*n\n",
        "\n",
        "if __name__ == \"__main__\":\n",
        "  numbers = [2,3,5]\n",
        "  result=multiprocessing.Array('i',3)# Create empty multiprocess array to store function return values\n",
        "  print(result[:])\n",
        "  p=multiprocessing.Process(target=calc_square,args=(numbers, result)) # pass function and its arguments to multiprocess\n",
        "  p.start() # Start multiple processing\n",
        "  p.join() # Stop multiple processing\n",
        "  print(result[:])# \"[:]\" is used to print all the values inside the array\n"
      ],
      "metadata": {
        "colab": {
          "base_uri": "https://localhost:8080/"
        },
        "id": "LKr1RPWR4CfQ",
        "outputId": "ec94828e-796b-4031-d155-6d5d0ee0aeec"
      },
      "execution_count": null,
      "outputs": [
        {
          "output_type": "stream",
          "name": "stdout",
          "text": [
            "[0, 0, 0]\n",
            "[4, 9, 25]\n"
          ]
        }
      ]
    },
    {
      "cell_type": "markdown",
      "source": [
        "### C3:List In Python"
      ],
      "metadata": {
        "id": "o7fRerorva-N"
      }
    },
    {
      "cell_type": "markdown",
      "source": [
        "Write program to define/create list in python."
      ],
      "metadata": {
        "id": "qO_jbt01EJhO"
      }
    },
    {
      "cell_type": "code",
      "source": [
        "# method1: Using list constructor\n",
        "my_list1 = list((1, 2, 3))\n",
        "print(\"method1:- \",my_list1)\n",
        "# Output [1, 2, 3]\n",
        "\n",
        "# method2: Using square brackets[]\n",
        "my_list2 = [1, 2, 3]\n",
        "print(\"method2:- \",my_list2)\n",
        "# Output [1, 2, 3]\n",
        "\n",
        "# method3: with heterogeneous items\n",
        "my_list3 = [1.0, 'Jessa', 3]\n",
        "print(\"method3:- \",my_list3)\n",
        "# Output [1.0, 'Jessa', 3]\n",
        "\n",
        "# method4: empty list using list()\n",
        "my_list4 = list()\n",
        "print(\"method4:- \",my_list4)\n",
        "# Output []\n",
        "\n",
        "# method5: empty list using []\n",
        "my_list5 = []\n",
        "print(\"method5:- \",my_list5)\n",
        "# Output []"
      ],
      "metadata": {
        "id": "5_cOZNfuvb0l",
        "colab": {
          "base_uri": "https://localhost:8080/"
        },
        "outputId": "6496948b-ec4b-44e6-e616-a9ccde7a5210"
      },
      "execution_count": null,
      "outputs": [
        {
          "output_type": "stream",
          "name": "stdout",
          "text": [
            "method1:-  [1, 2, 3]\n",
            "method2:-  [1, 2, 3]\n",
            "method3:-  [1.0, 'Jessa', 3]\n",
            "method4:-  []\n",
            "method5:-  []\n"
          ]
        }
      ]
    },
    {
      "cell_type": "markdown",
      "source": [
        "### Tuples"
      ],
      "metadata": {
        "id": "fJgAveiyZKAu"
      }
    },
    {
      "cell_type": "code",
      "source": [
        "# Creating an empty Tuple\n",
        "Tuple1 = ()\n",
        "print(\"Initial empty Tuple: \")\n",
        "print(Tuple1)\n",
        "\n",
        "# Creating a Tuple\n",
        "# with the use of string\n",
        "Tuple1 = ('Geeks', 'For')\n",
        "print(\"\\nTuple with the use of String: \")\n",
        "print(Tuple1)\n",
        "\n",
        "# Creating a Tuple with\n",
        "# the use of list\n",
        "list1 = [1, 2, 4, 5, 6]\n",
        "print(\"\\nTuple using List: \")\n",
        "print(tuple(list1))\n",
        "\n",
        "# Creating a Tuple\n",
        "# with the use of built-in function\n",
        "Tuple1 = tuple('Geeks')\n",
        "print(\"\\nTuple with the use of function: \")\n",
        "print(Tuple1)\n"
      ],
      "metadata": {
        "colab": {
          "base_uri": "https://localhost:8080/"
        },
        "id": "-wT81SUAZN0o",
        "outputId": "0a049cd7-8aa6-44c1-834d-81f511b1a6bf"
      },
      "execution_count": null,
      "outputs": [
        {
          "output_type": "stream",
          "name": "stdout",
          "text": [
            "Initial empty Tuple: \n",
            "()\n",
            "\n",
            "Tuple with the use of String: \n",
            "('Geeks', 'For')\n",
            "\n",
            "Tuple using List: \n",
            "(1, 2, 4, 5, 6)\n",
            "\n",
            "Tuple with the use of function: \n",
            "('G', 'e', 'e', 'k', 's')\n"
          ]
        }
      ]
    },
    {
      "cell_type": "markdown",
      "source": [
        "### List"
      ],
      "metadata": {
        "id": "QDatabEuf2TF"
      }
    },
    {
      "cell_type": "code",
      "source": [
        "list1 = [\"Rohan\", \"Physics\", 21, 69.75]\n",
        "list2 = [1, 2, 3, 4, 5]\n",
        "list3 = [\"a\", \"b\", \"c\", \"d\"]\n",
        "list4 = [25.50, True, -55, 1+2j]\n",
        "list5=[1,1.3,33,4.44,[list1]]\n",
        "print(list1)\n",
        "print(list2)\n",
        "print(list3)\n",
        "print(list4)\n",
        "print(list5)"
      ],
      "metadata": {
        "colab": {
          "base_uri": "https://localhost:8080/"
        },
        "id": "tCsQYZEzf7jf",
        "outputId": "19c5b6e8-baf5-481a-86f0-5f3fd034432f"
      },
      "execution_count": 2,
      "outputs": [
        {
          "output_type": "stream",
          "name": "stdout",
          "text": [
            "['Rohan', 'Physics', 21, 69.75]\n",
            "[1, 2, 3, 4, 5]\n",
            "['a', 'b', 'c', 'd']\n",
            "[25.5, True, -55, (1+2j)]\n",
            "[1, 1.3, 33, 4.44, [['Rohan', 'Physics', 21, 69.75]]]\n"
          ]
        }
      ]
    },
    {
      "cell_type": "markdown",
      "source": [
        "### Arbitrary Arguments"
      ],
      "metadata": {
        "id": "yUgWgbWtoUct"
      }
    },
    {
      "cell_type": "markdown",
      "source": [
        "Write a python program to explain the Arbitrary Arguments.\n",
        "1.An argument prefixed with a single asterisk * for arbitrary positional arguments.\n",
        "\n",
        "2.An argument prefixed with two asterisks ** for arbitrary keyword arguments."
      ],
      "metadata": {
        "id": "WRYiKdswoeBu"
      }
    },
    {
      "cell_type": "code",
      "source": [
        "#1.The args variable prefixed with \"*\" stores all the values passed to it.\n",
        "#Here, args becomes a tuple. We can run a loop over its items to add the numbers.\n",
        "def add(*args):\n",
        "   s=0\n",
        "   for x in args:\n",
        "      s=s+x\n",
        "   return s\n",
        "result = add(10,20,30,40)\n",
        "print (result)\n",
        "\n",
        "result = add(1,2,3)\n",
        "print (result)\n",
        "print(\"-------------------------------\")\n",
        "#2.The following code is an example of a function with arbitrary keyword arguments.\n",
        "#The addr() function has an argument **kwargs which is able to accept any number of address\n",
        "#elements like name, city, phno, pin, etc.\n",
        "#Inside the function kwargs dictionary of kw:value pairs is traversed using items() method.\n",
        "\n",
        "def addr(**kwargs):\n",
        "   for k,v in kwargs.items():\n",
        "      print (\"{}:{}\".format(k,v))\n",
        "\n",
        "print (\"pass two keyword args\")\n",
        "addr(Name=\"John\", City=\"Mumbai\")\n",
        "print (\"pass four keyword args\")\n",
        "\n",
        "# pass four keyword args\n",
        "addr(Name=\"Raam\", City=\"Mumbai\", ph_no=\"9123134567\", PIN=\"400001\")"
      ],
      "metadata": {
        "colab": {
          "base_uri": "https://localhost:8080/"
        },
        "id": "1WLCkAjoolPz",
        "outputId": "1ff873f0-d56b-4de3-94c6-780e4bcc1168"
      },
      "execution_count": 4,
      "outputs": [
        {
          "output_type": "stream",
          "name": "stdout",
          "text": [
            "100\n",
            "6\n",
            "-------------------------------\n",
            "pass two keyword args\n",
            "Name:John\n",
            "City:Mumbai\n",
            "pass four keyword args\n",
            "Name:Raam\n",
            "City:Mumbai\n",
            "ph_no:9123134567\n",
            "PIN:400001\n"
          ]
        }
      ]
    },
    {
      "cell_type": "code",
      "source": [],
      "metadata": {
        "id": "xZOFPqqKrL9a"
      },
      "execution_count": null,
      "outputs": []
    }
  ]
}