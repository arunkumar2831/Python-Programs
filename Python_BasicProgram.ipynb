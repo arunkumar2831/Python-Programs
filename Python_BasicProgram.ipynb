{
  "nbformat": 4,
  "nbformat_minor": 0,
  "metadata": {
    "colab": {
      "provenance": [],
      "toc_visible": true,
      "authorship_tag": "ABX9TyOxF8279nd8cz/yXS3H7JqK",
      "include_colab_link": true
    },
    "kernelspec": {
      "name": "python3",
      "display_name": "Python 3"
    },
    "language_info": {
      "name": "python"
    }
  },
  "cells": [
    {
      "cell_type": "markdown",
      "metadata": {
        "id": "view-in-github",
        "colab_type": "text"
      },
      "source": [
        "<a href=\"https://colab.research.google.com/github/arunkumar2831/Python-Programs/blob/main/Python_BasicProgram.ipynb\" target=\"_parent\"><img src=\"https://colab.research.google.com/assets/colab-badge.svg\" alt=\"Open In Colab\"/></a>"
      ]
    },
    {
      "cell_type": "markdown",
      "source": [
        "Write a Python program to do arithmetical operations addition and division."
      ],
      "metadata": {
        "id": "2oB1RFZ7hLHI"
      }
    },
    {
      "cell_type": "markdown",
      "source": [
        "###P1:arithmetical operations addition and division."
      ],
      "metadata": {
        "id": "AyMdpYz1TeEi"
      }
    },
    {
      "cell_type": "code",
      "execution_count": null,
      "metadata": {
        "colab": {
          "base_uri": "https://localhost:8080/"
        },
        "id": "1HN-8feNgRqD",
        "outputId": "77fe0e35-4194-4555-f615-4e83a4f6bec3"
      },
      "outputs": [
        {
          "output_type": "stream",
          "name": "stdout",
          "text": [
            "Enter the num1 value:25\n",
            "Enter the num2 value:5\n",
            "sum of: 25.0 + 5.0 = 30.0\n",
            "Division of 25.0 by 5.0 is : 5.0\n"
          ]
        }
      ],
      "source": [
        "num1= float(input(\"Enter the num1 value:\"))\n",
        "num2= float(input(\"Enter the num2 value:\"))\n",
        "sumvalue= num1+num2\n",
        "print(f\"sum of: {num1} + {num2} = {sumvalue}\")\n",
        "if num2 == 0:\n",
        "  print(\"Error: Division with zero is not allowed\")\n",
        "else:\n",
        "  div_result= num1/num2\n",
        "  print(f\"Division of {num1} by {num2} is : {div_result}\")\n"
      ]
    },
    {
      "cell_type": "markdown",
      "source": [
        "### P2:Area of a triangle."
      ],
      "metadata": {
        "id": "f2s6vJNXTqY_"
      }
    },
    {
      "cell_type": "markdown",
      "source": [
        "Python program to find the area of a triangle."
      ],
      "metadata": {
        "id": "qQLl9mrdTwA1"
      }
    },
    {
      "cell_type": "code",
      "source": [
        "heightval = float(input(\"Enter the Height of the triangle: \"))\n",
        "baseval = float(input(\"Enter the base of the triangle:\"))\n",
        "areaval= 0.5 * heightval * baseval\n",
        "print(f\"The Area of the Triangle is: { areaval}\")"
      ],
      "metadata": {
        "id": "_zvmyYfNhX0L",
        "colab": {
          "base_uri": "https://localhost:8080/"
        },
        "outputId": "eb47e9cd-fd9e-4891-dbc9-2e18d684de1c"
      },
      "execution_count": null,
      "outputs": [
        {
          "output_type": "stream",
          "name": "stdout",
          "text": [
            "Enter the Height of the triangle: 15\n",
            "Enter the base of the triangle:10\n",
            "Area of the Triangle is: 75.0\n"
          ]
        }
      ]
    },
    {
      "cell_type": "markdown",
      "source": [
        "### P3:Swap two variables"
      ],
      "metadata": {
        "id": "hGl6xVPBNVqR"
      }
    },
    {
      "cell_type": "markdown",
      "source": [
        "Write a Python program to swap two variables."
      ],
      "metadata": {
        "id": "srS-9IhSNdN_"
      }
    },
    {
      "cell_type": "code",
      "source": [
        "a = input(\"Enter the variable A value:-\")\n",
        "b = input(\"Enter the variable B value:-\")\n",
        "print(f\"Original values of A = {a}, and B = {b}\")\n",
        "temp = a\n",
        "a = b\n",
        "b = temp\n",
        "print(\"After Swap the variable values:\")\n",
        "print(f\"Swapped values of A = {a}, and B = {b}\")"
      ],
      "metadata": {
        "colab": {
          "base_uri": "https://localhost:8080/"
        },
        "id": "t5uyUh7QNe6o",
        "outputId": "99f5226e-89fa-41c3-e161-a35e76546b63"
      },
      "execution_count": null,
      "outputs": [
        {
          "output_type": "stream",
          "name": "stdout",
          "text": [
            "Enter the variable A value:-5\n",
            "Enter the variable B value:-7\n",
            "Original values of A = 5, and B = 7\n",
            "After Swap the variable values:\n",
            "Swapped values of A = 7, and B = 5\n"
          ]
        }
      ]
    },
    {
      "cell_type": "markdown",
      "source": [
        "### P4:Generate Random **Number**"
      ],
      "metadata": {
        "id": "Co1V358MOaZ9"
      }
    },
    {
      "cell_type": "markdown",
      "source": [
        "Write a Python program to generate a random number."
      ],
      "metadata": {
        "id": "1GyjMVQNOfxx"
      }
    },
    {
      "cell_type": "code",
      "source": [
        "import random\n",
        "# randint(startnum, stopnum)\n",
        "print(f\"Random number is :- {random.randint(29,30)}\")"
      ],
      "metadata": {
        "colab": {
          "base_uri": "https://localhost:8080/"
        },
        "id": "9SO_EcNeOh40",
        "outputId": "254e5e1a-c782-4981-ffb6-1c235cf0b5cf"
      },
      "execution_count": null,
      "outputs": [
        {
          "output_type": "stream",
          "name": "stdout",
          "text": [
            "Random number is :- 29\n"
          ]
        }
      ]
    },
    {
      "cell_type": "markdown",
      "source": [
        "### P5:Convert Kilometers to Miles."
      ],
      "metadata": {
        "id": "s_ez7IXAPOtE"
      }
    },
    {
      "cell_type": "markdown",
      "source": [
        "1.Write a Python program to convert kilometers to miles.\n",
        "1.Write a Python program to convert miles to kilometers."
      ],
      "metadata": {
        "id": "13m9pbd7PbP1"
      }
    },
    {
      "cell_type": "code",
      "source": [
        "km = float(input(\"Enter the kilometers:- \"))\n",
        "miles_conversion_ratio = 0.621371\n",
        "kilometers_conversion_ratio = 1.621371\n",
        "miles = km * miles_conversion_ratio\n",
        "kilometers = miles * kilometers_conversion_ratio\n",
        "print(f\"{km} kilometers is equal to {miles} miles\")\n",
        "print(f\"{miles} miles is equal to {kilometers} kilometers\")"
      ],
      "metadata": {
        "colab": {
          "base_uri": "https://localhost:8080/"
        },
        "id": "hF7hl4e6PemF",
        "outputId": "bb3f24f6-c4c9-4a57-94e3-4b5682eaaed3"
      },
      "execution_count": null,
      "outputs": [
        {
          "output_type": "stream",
          "name": "stdout",
          "text": [
            "Enter the kilometers:- 100\n",
            "100.0 kilometers is equal to 62.137100000000004 miles\n",
            "62.137100000000004 miles is equal to 100.7472919641 kilometers\n"
          ]
        }
      ]
    },
    {
      "cell_type": "markdown",
      "source": [
        "### P6: Celsius to Fahrenheit."
      ],
      "metadata": {
        "id": "ISxaMlGKRaIj"
      }
    },
    {
      "cell_type": "markdown",
      "source": [
        "Write a Python program to convert Celsius to Fahrenheit."
      ],
      "metadata": {
        "id": "FpWN0uTWRgC9"
      }
    },
    {
      "cell_type": "code",
      "source": [
        "celsius= float(input(\"Enter the celsius: \"))\n",
        "#Convert Celsius to Fahrenheit:- Fahrenheit = (Celsius * 9/5) + 32\n",
        "print(f\"{celsius} degree celsius is equal to {(celsius * 9/5) + 32} degree Fahrenheit\")"
      ],
      "metadata": {
        "colab": {
          "base_uri": "https://localhost:8080/"
        },
        "id": "PpFb1JJqRi3M",
        "outputId": "fc98e26d-f040-43d1-999d-cc700c09c896"
      },
      "execution_count": null,
      "outputs": [
        {
          "output_type": "stream",
          "name": "stdout",
          "text": [
            "Enter the celsius: 37\n",
            "37.0 degree celsius is equal to 98.6 degree Fahrenheit\n"
          ]
        }
      ]
    },
    {
      "cell_type": "markdown",
      "source": [
        "### P7: Display Calendar"
      ],
      "metadata": {
        "id": "F5GRlwgsSRr3"
      }
    },
    {
      "cell_type": "markdown",
      "source": [
        "Write a Python program to display calendar"
      ],
      "metadata": {
        "id": "u4GbF79YSaBL"
      }
    },
    {
      "cell_type": "code",
      "source": [
        "import calendar\n",
        "\n",
        "yr = int(input(\"Enter the Year:- \"))\n",
        "mn= int(input(\"Enter the Month:- \"))\n",
        "cal=calendar.month(yr,mn)\n",
        "fullcal= calendar.calendar(yr)\n",
        "print(f\"{mn} month of the year {yr} is :-\")\n",
        "print(cal)\n",
        "# print(f\"            2024 calendar               \")\n",
        "# print(fullcal)"
      ],
      "metadata": {
        "colab": {
          "base_uri": "https://localhost:8080/"
        },
        "id": "pvUC0pOsScKa",
        "outputId": "16e3fcee-a502-4080-faa0-d43539f2cc4f"
      },
      "execution_count": null,
      "outputs": [
        {
          "output_type": "stream",
          "name": "stdout",
          "text": [
            "Enter the Year:- 24\n",
            "Enter the Month:- 12\n",
            "12 month of the year 24 is :-\n",
            "    December 24\n",
            "Mo Tu We Th Fr Sa Su\n",
            "                   1\n",
            " 2  3  4  5  6  7  8\n",
            " 9 10 11 12 13 14 15\n",
            "16 17 18 19 20 21 22\n",
            "23 24 25 26 27 28 29\n",
            "30 31\n",
            "\n",
            "            2024 calendar               \n",
            "                                   24\n",
            "\n",
            "      January                   February                   March\n",
            "Mo Tu We Th Fr Sa Su      Mo Tu We Th Fr Sa Su      Mo Tu We Th Fr Sa Su\n",
            " 1  2  3  4  5  6  7                1  2  3  4                   1  2  3\n",
            " 8  9 10 11 12 13 14       5  6  7  8  9 10 11       4  5  6  7  8  9 10\n",
            "15 16 17 18 19 20 21      12 13 14 15 16 17 18      11 12 13 14 15 16 17\n",
            "22 23 24 25 26 27 28      19 20 21 22 23 24 25      18 19 20 21 22 23 24\n",
            "29 30 31                  26 27 28 29               25 26 27 28 29 30 31\n",
            "\n",
            "       April                      May                       June\n",
            "Mo Tu We Th Fr Sa Su      Mo Tu We Th Fr Sa Su      Mo Tu We Th Fr Sa Su\n",
            " 1  2  3  4  5  6  7             1  2  3  4  5                      1  2\n",
            " 8  9 10 11 12 13 14       6  7  8  9 10 11 12       3  4  5  6  7  8  9\n",
            "15 16 17 18 19 20 21      13 14 15 16 17 18 19      10 11 12 13 14 15 16\n",
            "22 23 24 25 26 27 28      20 21 22 23 24 25 26      17 18 19 20 21 22 23\n",
            "29 30                     27 28 29 30 31            24 25 26 27 28 29 30\n",
            "\n",
            "        July                     August                  September\n",
            "Mo Tu We Th Fr Sa Su      Mo Tu We Th Fr Sa Su      Mo Tu We Th Fr Sa Su\n",
            " 1  2  3  4  5  6  7                1  2  3  4                         1\n",
            " 8  9 10 11 12 13 14       5  6  7  8  9 10 11       2  3  4  5  6  7  8\n",
            "15 16 17 18 19 20 21      12 13 14 15 16 17 18       9 10 11 12 13 14 15\n",
            "22 23 24 25 26 27 28      19 20 21 22 23 24 25      16 17 18 19 20 21 22\n",
            "29 30 31                  26 27 28 29 30 31         23 24 25 26 27 28 29\n",
            "                                                    30\n",
            "\n",
            "      October                   November                  December\n",
            "Mo Tu We Th Fr Sa Su      Mo Tu We Th Fr Sa Su      Mo Tu We Th Fr Sa Su\n",
            "    1  2  3  4  5  6                   1  2  3                         1\n",
            " 7  8  9 10 11 12 13       4  5  6  7  8  9 10       2  3  4  5  6  7  8\n",
            "14 15 16 17 18 19 20      11 12 13 14 15 16 17       9 10 11 12 13 14 15\n",
            "21 22 23 24 25 26 27      18 19 20 21 22 23 24      16 17 18 19 20 21 22\n",
            "28 29 30 31               25 26 27 28 29 30         23 24 25 26 27 28 29\n",
            "                                                    30 31\n",
            "\n"
          ]
        }
      ]
    },
    {
      "cell_type": "markdown",
      "source": [
        "### P8:Swap two variables without TEMP variable"
      ],
      "metadata": {
        "id": "W_mOehdHVhYQ"
      }
    },
    {
      "cell_type": "markdown",
      "source": [
        "Write a Python program to swap two variables without temp variable."
      ],
      "metadata": {
        "id": "jp1etpzgVoM0"
      }
    },
    {
      "cell_type": "code",
      "source": [
        "a = 5\n",
        "b = 10\n",
        "print(f\"Orginal values of A = {a} and B = {b} \")\n",
        "#Swapping values\n",
        "a , b = b , a\n",
        "print(f\"Swapped values of A = {a} and B = {b} without using TEMP \")"
      ],
      "metadata": {
        "colab": {
          "base_uri": "https://localhost:8080/"
        },
        "id": "Ui7WIq1vVqoY",
        "outputId": "6e71c17c-f2e8-44ba-fadd-7be7bba2f6b3"
      },
      "execution_count": null,
      "outputs": [
        {
          "output_type": "stream",
          "name": "stdout",
          "text": [
            "Orginal values of A = 5 and B = 10 without using TEMP \n",
            "Swapped values of A = 10 and B = 5 without using TEMP \n"
          ]
        }
      ]
    },
    {
      "cell_type": "markdown",
      "source": [
        "### P9:Number is Positive, Negative or Zero"
      ],
      "metadata": {
        "id": "oOxUTKr4WVas"
      }
    },
    {
      "cell_type": "markdown",
      "source": [
        "Write a Python Program to Check if a Number is Positive, Negative or Zero."
      ],
      "metadata": {
        "id": "7H4LF0zHWZkw"
      }
    },
    {
      "cell_type": "code",
      "source": [
        "num=float(input(\"Enter the Number :- \"))\n",
        "\n",
        "if num>0:\n",
        "  print(f\"The Given number {num} is positive \")\n",
        "elif num ==0:\n",
        "  print(f\"The Given number zero. \")\n",
        "else:\n",
        "  print(f\"The Given number {num} is Negative \")"
      ],
      "metadata": {
        "colab": {
          "base_uri": "https://localhost:8080/"
        },
        "id": "dALTjVTBWcPH",
        "outputId": "644bf4d9-a7e5-453c-cd5d-32c8550a3d7d"
      },
      "execution_count": null,
      "outputs": [
        {
          "output_type": "stream",
          "name": "stdout",
          "text": [
            "Enter the Number :- -8\n",
            "The Given number -8.0 is Negative \n"
          ]
        }
      ]
    },
    {
      "cell_type": "markdown",
      "source": [
        "### P10:Odd or EvenNumber"
      ],
      "metadata": {
        "id": "4T-0tG86W-pC"
      }
    },
    {
      "cell_type": "markdown",
      "source": [
        "Write a Python Program to Check if a Number is Odd or Even."
      ],
      "metadata": {
        "id": "6YhSvkhCXObM"
      }
    },
    {
      "cell_type": "code",
      "source": [
        "num = int(input(\"Enter the given number is Odd or Even :\"))\n",
        "\n",
        "if num%2==0:\n",
        "  print(f\"The given number {num} is Even \")\n",
        "else:\n",
        "  print(f\"The given number {num} is Odd \")"
      ],
      "metadata": {
        "colab": {
          "base_uri": "https://localhost:8080/"
        },
        "id": "FJeCiciyXTM7",
        "outputId": "4e806d4a-5018-40ec-88cc-072444876926"
      },
      "execution_count": null,
      "outputs": [
        {
          "output_type": "stream",
          "name": "stdout",
          "text": [
            "Enter the given number is Odd or Even :9\n",
            "The given number 9.0 is Odd \n"
          ]
        }
      ]
    },
    {
      "cell_type": "markdown",
      "source": [
        "### P11:Check Leap Year"
      ],
      "metadata": {
        "id": "e7wqBQafYIH3"
      }
    },
    {
      "cell_type": "markdown",
      "source": [
        "Write a Python Program to Check Leap Year."
      ],
      "metadata": {
        "id": "M_B6GhWBYLm8"
      }
    },
    {
      "cell_type": "code",
      "source": [
        "yr = int(input(\"Enter the Year :- \"))\n",
        "if (yr%400 == 0) and (yr%100 == 0):\n",
        "  print(f\"The given year {yr} is Leap Year\")\n",
        "elif (yr%4 == 0) and (yr%100 != 0):\n",
        "  print(f\"The given year {yr} is Leap Year\")\n",
        "else:\n",
        "  print(f\"The given year {yr} is not Leap Year\")"
      ],
      "metadata": {
        "colab": {
          "base_uri": "https://localhost:8080/"
        },
        "id": "-263BlikYNOi",
        "outputId": "31400a75-1405-4c5b-b9e4-174a14779612"
      },
      "execution_count": null,
      "outputs": [
        {
          "output_type": "stream",
          "name": "stdout",
          "text": [
            "Enter the Year :- 1996\n",
            "The given year 1996 is Leap Year\n"
          ]
        }
      ]
    }
  ]
}