{
  "nbformat": 4,
  "nbformat_minor": 0,
  "metadata": {
    "colab": {
      "provenance": [],
      "authorship_tag": "ABX9TyPF0CJ4J9aZ+dtt/ic4SZzj",
      "include_colab_link": true
    },
    "kernelspec": {
      "name": "python3",
      "display_name": "Python 3"
    },
    "language_info": {
      "name": "python"
    }
  },
  "cells": [
    {
      "cell_type": "markdown",
      "metadata": {
        "id": "view-in-github",
        "colab_type": "text"
      },
      "source": [
        "<a href=\"https://colab.research.google.com/github/arunkumar2831/Python-Programs/blob/main/Pandas_programs.ipynb\" target=\"_parent\"><img src=\"https://colab.research.google.com/assets/colab-badge.svg\" alt=\"Open In Colab\"/></a>"
      ]
    },
    {
      "cell_type": "code",
      "execution_count": 8,
      "metadata": {
        "colab": {
          "base_uri": "https://localhost:8080/"
        },
        "id": "4WA6yfOJ-08R",
        "outputId": "8e808bd9-71f3-4ce6-b148-86461d933502"
      },
      "outputs": [
        {
          "output_type": "stream",
          "name": "stdout",
          "text": [
            "(16743, 14)\n",
            "       Data.Precipitation   Date.Full  Date.Month  Date.Week of  Date.Year  \\\n",
            "16738                0.08  2017-01-01           1             1       2017   \n",
            "16739                0.00  2017-01-01           1             1       2017   \n",
            "16740                0.00  2017-01-01           1             1       2017   \n",
            "16741                0.06  2017-01-01           1             1       2017   \n",
            "16742                0.10  2017-01-01           1             1       2017   \n",
            "\n",
            "      Station.City Station.Code Station.Location Station.State  \\\n",
            "16738       Casper          CPR       Casper, WY       Wyoming   \n",
            "16739     Cheyenne          CYS     Cheyenne, WY       Wyoming   \n",
            "16740       Lander          LND       Lander, WY       Wyoming   \n",
            "16741      Rawlins          RWL      Rawlins, WY       Wyoming   \n",
            "16742     Sheridan          SHR     Sheridan, WY       Wyoming   \n",
            "\n",
            "       Data.Temperature.Avg Temp  Data.Temperature.Max Temp  \\\n",
            "16738                         23                         32   \n",
            "16739                         32                         42   \n",
            "16740                         17                         29   \n",
            "16741                         23                         31   \n",
            "16742                         21                         34   \n",
            "\n",
            "       Data.Temperature.Min Temp  Data.Wind.Direction  Data.Wind.Speed  \n",
            "16738                         15                   23            19.98  \n",
            "16739                         21                   26            15.16  \n",
            "16740                          4                   26             1.65  \n",
            "16741                         13                   24            18.16  \n",
            "16742                          8                   23             7.51  \n"
          ]
        }
      ],
      "source": [
        "import pandas as pd\n",
        "import io\n",
        "\n",
        "#from google.colab import files\n",
        "\n",
        "\n",
        "#uploaded = files.upload()\n",
        "df = pd.read_csv(io.BytesIO(uploaded['weather.csv']))\n",
        "#shape is used for to know the dimension of the dataframe and value will be(Rows, Columns)\n",
        "print(df.shape)\n",
        "#print(df.head(2))# it will print first 5 rows as default.if you pass row as arugment, it will print those rows\n",
        "print(df.tail()) # it used to print the last 5 rows as default.if you pass row as arugment, it will print those rows"
      ]
    }
  ]
}