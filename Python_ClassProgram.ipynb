{
  "nbformat": 4,
  "nbformat_minor": 0,
  "metadata": {
    "colab": {
      "provenance": [],
      "toc_visible": true,
      "authorship_tag": "ABX9TyNFVsbPh3qPNF5nQcsRDAOM",
      "include_colab_link": true
    },
    "kernelspec": {
      "name": "python3",
      "display_name": "Python 3"
    },
    "language_info": {
      "name": "python"
    }
  },
  "cells": [
    {
      "cell_type": "markdown",
      "metadata": {
        "id": "view-in-github",
        "colab_type": "text"
      },
      "source": [
        "<a href=\"https://colab.research.google.com/github/arunkumar2831/Python-Programs/blob/main/Python_ClassProgram.ipynb\" target=\"_parent\"><img src=\"https://colab.research.google.com/assets/colab-badge.svg\" alt=\"Open In Colab\"/></a>"
      ]
    },
    {
      "cell_type": "markdown",
      "source": [
        "# ### CP1:Sum of Series\n"
      ],
      "metadata": {
        "id": "TiCNAQBrVaAS"
      }
    },
    {
      "cell_type": "markdown",
      "source": [
        "Write a program to find the sum of the given series 1+2+3+ . . . . . .(N terms)\n",
        "\n",
        "Example 1:\n",
        "Input:\n",
        "N = 5\n",
        "Output: 15\n",
        "Explanation: For n = 5, sum will be 15.\n",
        "1 + 2 + 3 + 4 + 5 = 15."
      ],
      "metadata": {
        "id": "7J6pMWGwVf7l"
      }
    },
    {
      "cell_type": "code",
      "execution_count": 4,
      "metadata": {
        "colab": {
          "base_uri": "https://localhost:8080/"
        },
        "id": "3QmsG570VQu8",
        "outputId": "b8c6da4e-5a45-4447-a7de-635a8dc00810"
      },
      "outputs": [
        {
          "output_type": "stream",
          "name": "stdout",
          "text": [
            "Enter the number of test cases: 1\n",
            "Enter the value of n: 6\n",
            "The sum of the series for the first 6 natural numbers is: 21\n"
          ]
        }
      ],
      "source": [
        "class Solution:\n",
        "    def __init__(self):\n",
        "        pass\n",
        "\n",
        "    def seriesSum(self, n: int) -> int:\n",
        "        # code here\n",
        "        series_sum = n * (n + 1) // 2\n",
        "        return series_sum\n",
        "\n",
        "# Driver Code\n",
        "if __name__ == \"__main__\":\n",
        "    t = int(input(\"Enter the number of test cases: \"))\n",
        "    for _ in range(t):\n",
        "        n = int(input(\"Enter the value of n: \"))\n",
        "        obj = Solution()\n",
        "        res = obj.seriesSum(n)\n",
        "        print(f\"The sum of the series for the first {n} natural numbers is: {res}\")\n"
      ]
    }
  ]
}