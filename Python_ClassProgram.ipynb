{
  "cells": [
    {
      "cell_type": "markdown",
      "metadata": {
        "id": "view-in-github",
        "colab_type": "text"
      },
      "source": [
        "<a href=\"https://colab.research.google.com/github/arunkumar2831/Python-Programs/blob/main/Python_ClassProgram.ipynb\" target=\"_parent\"><img src=\"https://colab.research.google.com/assets/colab-badge.svg\" alt=\"Open In Colab\"/></a>"
      ]
    },
    {
      "cell_type": "markdown",
      "metadata": {
        "id": "TiCNAQBrVaAS"
      },
      "source": [
        "### CP1:Sum of Series\n"
      ]
    },
    {
      "cell_type": "markdown",
      "metadata": {
        "id": "7J6pMWGwVf7l"
      },
      "source": [
        "Write a program to find the sum of the given series 1+2+3+ . . . . . .(N terms)\n",
        "\n",
        "Example 1:\n",
        "Input:\n",
        "N = 5\n",
        "Output: 15\n",
        "Explanation: For n = 5, sum will be 15.\n",
        "1 + 2 + 3 + 4 + 5 = 15."
      ]
    },
    {
      "cell_type": "code",
      "execution_count": null,
      "metadata": {
        "colab": {
          "base_uri": "https://localhost:8080/"
        },
        "id": "3QmsG570VQu8",
        "outputId": "b8c6da4e-5a45-4447-a7de-635a8dc00810"
      },
      "outputs": [
        {
          "name": "stdout",
          "output_type": "stream",
          "text": [
            "Enter the number of test cases: 1\n",
            "Enter the value of n: 6\n",
            "The sum of the series for the first 6 natural numbers is: 21\n"
          ]
        }
      ],
      "source": [
        "class Solution:\n",
        "    def __init__(self):\n",
        "        pass\n",
        "\n",
        "    def seriesSum(self, n: int) -> int:\n",
        "        # code here\n",
        "        series_sum = n * (n + 1) // 2\n",
        "        return series_sum\n",
        "\n",
        "# Driver Code\n",
        "if __name__ == \"__main__\":\n",
        "    t = int(input(\"Enter the number of test cases: \"))\n",
        "    for _ in range(t):\n",
        "        n = int(input(\"Enter the value of n: \"))\n",
        "        obj = Solution()\n",
        "        res = obj.seriesSum(n)\n",
        "        print(f\"The sum of the series for the first {n} natural numbers is: {res}\")\n"
      ]
    },
    {
      "cell_type": "markdown",
      "source": [
        "### CP2:Find the missing number"
      ],
      "metadata": {
        "id": "7FOgTD_4D2jF"
      }
    },
    {
      "cell_type": "markdown",
      "source": [
        "Write a python class program to print the missing number in the array"
      ],
      "metadata": {
        "id": "SX544Q8DDqqM"
      }
    },
    {
      "cell_type": "code",
      "execution_count": null,
      "metadata": {
        "colab": {
          "base_uri": "https://localhost:8080/"
        },
        "id": "9Iy_P2cmnTV_",
        "outputId": "7ae63ee1-e189-475f-f8d2-f8f582d1b5fb"
      },
      "outputs": [
        {
          "output_type": "stream",
          "name": "stdout",
          "text": [
            "2\n",
            "enter the array count2\n",
            "1 \n",
            "None\n",
            "enter the array count1\n",
            "1\n",
            "None\n"
          ]
        }
      ],
      "source": [
        "class Solution:\n",
        "    def missingNumber(self,array,n):\n",
        "        # code here\n",
        "        array.sort()\n",
        "        for i in range(1,n):\n",
        "            if i not in array:\n",
        "                return i\n",
        "#{\n",
        " # Driver Code Starts\n",
        "#Initial Template for Python 3\n",
        "\n",
        "t=int(input())\n",
        "for _ in range(0,t):\n",
        "    n=int(input(\"enter the array count\"))\n",
        "    a=list(map(int,input().split()))\n",
        "    s=Solution().missingNumber(a,n)\n",
        "    print(s)\n",
        "# } Driver Code Ends"
      ]
    },
    {
      "cell_type": "markdown",
      "source": [
        "### CP3:Simple Class Program"
      ],
      "metadata": {
        "id": "UAS7R4FErYKS"
      }
    },
    {
      "cell_type": "markdown",
      "source": [
        "Write a simple Class program to excute the message"
      ],
      "metadata": {
        "id": "7pif6C7Krdue"
      }
    },
    {
      "cell_type": "code",
      "source": [
        "class CreateMessage:\n",
        "  def __init__(self, msg):\n",
        "    self.msg= msg\n",
        "\n",
        "  def print_message(self,name):\n",
        "    print(\"Hi\", name)\n",
        "    print(self.msg)\n",
        "\n",
        "print(\"Object 1-----\")\n",
        "message1= CreateMessage(\"Welcome to python course\")\n",
        "message1.print_message(\"Arun\")\n",
        "print(\"Object 2-----\")\n",
        "message2= CreateMessage(\"Welcome to PowerBi course\")\n",
        "message2.print_message(\"Kumar\")"
      ],
      "metadata": {
        "colab": {
          "base_uri": "https://localhost:8080/"
        },
        "id": "DqajCRksrjdF",
        "outputId": "ba8fe058-e2c0-4f83-a3be-87d9a49a0d09"
      },
      "execution_count": null,
      "outputs": [
        {
          "output_type": "stream",
          "name": "stdout",
          "text": [
            "Object 1-----\n",
            "Hi Arun\n",
            "Welcome to python course\n",
            "Object 2-----\n",
            "Hi Kumar\n",
            "Welcome to PowerBi course\n"
          ]
        }
      ]
    },
    {
      "cell_type": "markdown",
      "source": [
        "### CP4:Class Person and its two child classes"
      ],
      "metadata": {
        "id": "YsVSIquPLBtA"
      }
    },
    {
      "cell_type": "markdown",
      "source": [
        "Define a class Person and its two child classes: Male and Female. All classes have amethod \"getGender\" which can print \"Male\" for Male class and \"Female\" for Femaleclass."
      ],
      "metadata": {
        "id": "nIF8To06LGXN"
      }
    },
    {
      "cell_type": "code",
      "source": [
        "class Person():\n",
        "  def getGender(self):\n",
        "    return \"Unknow\"\n",
        "class Male(Person):\n",
        "  def getGender(self):\n",
        "    return \"Male\"\n",
        "class Female(Person):\n",
        "  def getGender(self):\n",
        "    return \"Female\"\n",
        "\n",
        "person = Person()\n",
        "male = Male()\n",
        "female = Female()\n",
        "print(person.getGender())\n",
        "print(male.getGender())\n",
        "print(female.getGender())"
      ],
      "metadata": {
        "colab": {
          "base_uri": "https://localhost:8080/"
        },
        "id": "oOH5KOS-LLsc",
        "outputId": "febcb54d-d19d-41ff-b5c4-b0afd9a73a75"
      },
      "execution_count": 2,
      "outputs": [
        {
          "output_type": "stream",
          "name": "stdout",
          "text": [
            "Unknow\n",
            "Male\n",
            "Female\n"
          ]
        }
      ]
    }
  ],
  "metadata": {
    "colab": {
      "toc_visible": true,
      "provenance": [],
      "authorship_tag": "ABX9TyPeKZfYkxiRO4kaxEF752pX",
      "include_colab_link": true
    },
    "kernelspec": {
      "display_name": "Python 3",
      "name": "python3"
    },
    "language_info": {
      "name": "python"
    }
  },
  "nbformat": 4,
  "nbformat_minor": 0
}